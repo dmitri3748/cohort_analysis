{
 "cells": [
  {
   "cell_type": "code",
   "execution_count": 1,
   "id": "f0cebc6b",
   "metadata": {},
   "outputs": [],
   "source": [
    "import pandas as pd"
   ]
  },
  {
   "cell_type": "code",
   "execution_count": 8,
   "id": "bf7d07ab",
   "metadata": {},
   "outputs": [
    {
     "data": {
      "text/html": [
       "<div>\n",
       "<style scoped>\n",
       "    .dataframe tbody tr th:only-of-type {\n",
       "        vertical-align: middle;\n",
       "    }\n",
       "\n",
       "    .dataframe tbody tr th {\n",
       "        vertical-align: top;\n",
       "    }\n",
       "\n",
       "    .dataframe thead th {\n",
       "        text-align: right;\n",
       "    }\n",
       "</style>\n",
       "<table border=\"1\" class=\"dataframe\">\n",
       "  <thead>\n",
       "    <tr style=\"text-align: right;\">\n",
       "      <th></th>\n",
       "      <th>Unnamed: 0</th>\n",
       "      <th>invoice</th>\n",
       "      <th>description</th>\n",
       "      <th>quantity</th>\n",
       "      <th>invoicedate</th>\n",
       "      <th>price</th>\n",
       "      <th>customer_id</th>\n",
       "      <th>country</th>\n",
       "      <th>total</th>\n",
       "    </tr>\n",
       "  </thead>\n",
       "  <tbody>\n",
       "    <tr>\n",
       "      <th>0</th>\n",
       "      <td>0</td>\n",
       "      <td>489434</td>\n",
       "      <td>15CM CHRISTMAS GLASS BALL 20 LIGHTS</td>\n",
       "      <td>12</td>\n",
       "      <td>2009-12-01 07:45:00</td>\n",
       "      <td>6.95</td>\n",
       "      <td>13085.0</td>\n",
       "      <td>United Kingdom</td>\n",
       "      <td>83.40</td>\n",
       "    </tr>\n",
       "    <tr>\n",
       "      <th>1</th>\n",
       "      <td>1</td>\n",
       "      <td>489434</td>\n",
       "      <td>PINK CHERRY LIGHTS</td>\n",
       "      <td>12</td>\n",
       "      <td>2009-12-01 07:45:00</td>\n",
       "      <td>6.75</td>\n",
       "      <td>13085.0</td>\n",
       "      <td>United Kingdom</td>\n",
       "      <td>81.00</td>\n",
       "    </tr>\n",
       "    <tr>\n",
       "      <th>2</th>\n",
       "      <td>2</td>\n",
       "      <td>489434</td>\n",
       "      <td>WHITE CHERRY LIGHTS</td>\n",
       "      <td>12</td>\n",
       "      <td>2009-12-01 07:45:00</td>\n",
       "      <td>6.75</td>\n",
       "      <td>13085.0</td>\n",
       "      <td>United Kingdom</td>\n",
       "      <td>81.00</td>\n",
       "    </tr>\n",
       "    <tr>\n",
       "      <th>3</th>\n",
       "      <td>3</td>\n",
       "      <td>489434</td>\n",
       "      <td>RECORD FRAME 7\" SINGLE SIZE</td>\n",
       "      <td>48</td>\n",
       "      <td>2009-12-01 07:45:00</td>\n",
       "      <td>2.10</td>\n",
       "      <td>13085.0</td>\n",
       "      <td>United Kingdom</td>\n",
       "      <td>100.80</td>\n",
       "    </tr>\n",
       "    <tr>\n",
       "      <th>4</th>\n",
       "      <td>4</td>\n",
       "      <td>489434</td>\n",
       "      <td>STRAWBERRY CERAMIC TRINKET BOX</td>\n",
       "      <td>24</td>\n",
       "      <td>2009-12-01 07:45:00</td>\n",
       "      <td>1.25</td>\n",
       "      <td>13085.0</td>\n",
       "      <td>United Kingdom</td>\n",
       "      <td>30.00</td>\n",
       "    </tr>\n",
       "    <tr>\n",
       "      <th>...</th>\n",
       "      <td>...</td>\n",
       "      <td>...</td>\n",
       "      <td>...</td>\n",
       "      <td>...</td>\n",
       "      <td>...</td>\n",
       "      <td>...</td>\n",
       "      <td>...</td>\n",
       "      <td>...</td>\n",
       "      <td>...</td>\n",
       "    </tr>\n",
       "    <tr>\n",
       "      <th>779277</th>\n",
       "      <td>779277</td>\n",
       "      <td>581587</td>\n",
       "      <td>CHILDREN'S APRON DOLLY GIRL</td>\n",
       "      <td>6</td>\n",
       "      <td>2011-12-09 12:50:00</td>\n",
       "      <td>2.10</td>\n",
       "      <td>12680.0</td>\n",
       "      <td>France</td>\n",
       "      <td>12.60</td>\n",
       "    </tr>\n",
       "    <tr>\n",
       "      <th>779278</th>\n",
       "      <td>779278</td>\n",
       "      <td>581587</td>\n",
       "      <td>CHILDRENS CUTLERY DOLLY GIRL</td>\n",
       "      <td>4</td>\n",
       "      <td>2011-12-09 12:50:00</td>\n",
       "      <td>4.15</td>\n",
       "      <td>12680.0</td>\n",
       "      <td>France</td>\n",
       "      <td>16.60</td>\n",
       "    </tr>\n",
       "    <tr>\n",
       "      <th>779279</th>\n",
       "      <td>779279</td>\n",
       "      <td>581587</td>\n",
       "      <td>CHILDRENS CUTLERY CIRCUS PARADE</td>\n",
       "      <td>4</td>\n",
       "      <td>2011-12-09 12:50:00</td>\n",
       "      <td>4.15</td>\n",
       "      <td>12680.0</td>\n",
       "      <td>France</td>\n",
       "      <td>16.60</td>\n",
       "    </tr>\n",
       "    <tr>\n",
       "      <th>779280</th>\n",
       "      <td>779280</td>\n",
       "      <td>581587</td>\n",
       "      <td>BAKING SET 9 PIECE RETROSPOT</td>\n",
       "      <td>3</td>\n",
       "      <td>2011-12-09 12:50:00</td>\n",
       "      <td>4.95</td>\n",
       "      <td>12680.0</td>\n",
       "      <td>France</td>\n",
       "      <td>14.85</td>\n",
       "    </tr>\n",
       "    <tr>\n",
       "      <th>779281</th>\n",
       "      <td>779281</td>\n",
       "      <td>581587</td>\n",
       "      <td>POSTAGE</td>\n",
       "      <td>1</td>\n",
       "      <td>2011-12-09 12:50:00</td>\n",
       "      <td>18.00</td>\n",
       "      <td>12680.0</td>\n",
       "      <td>France</td>\n",
       "      <td>18.00</td>\n",
       "    </tr>\n",
       "  </tbody>\n",
       "</table>\n",
       "<p>779282 rows × 9 columns</p>\n",
       "</div>"
      ],
      "text/plain": [
       "        Unnamed: 0  invoice                          description  quantity  \\\n",
       "0                0   489434  15CM CHRISTMAS GLASS BALL 20 LIGHTS        12   \n",
       "1                1   489434                   PINK CHERRY LIGHTS        12   \n",
       "2                2   489434                  WHITE CHERRY LIGHTS        12   \n",
       "3                3   489434          RECORD FRAME 7\" SINGLE SIZE        48   \n",
       "4                4   489434       STRAWBERRY CERAMIC TRINKET BOX        24   \n",
       "...            ...      ...                                  ...       ...   \n",
       "779277      779277   581587          CHILDREN'S APRON DOLLY GIRL         6   \n",
       "779278      779278   581587         CHILDRENS CUTLERY DOLLY GIRL         4   \n",
       "779279      779279   581587      CHILDRENS CUTLERY CIRCUS PARADE         4   \n",
       "779280      779280   581587         BAKING SET 9 PIECE RETROSPOT         3   \n",
       "779281      779281   581587                              POSTAGE         1   \n",
       "\n",
       "                invoicedate  price  customer_id         country   total  \n",
       "0       2009-12-01 07:45:00   6.95      13085.0  United Kingdom   83.40  \n",
       "1       2009-12-01 07:45:00   6.75      13085.0  United Kingdom   81.00  \n",
       "2       2009-12-01 07:45:00   6.75      13085.0  United Kingdom   81.00  \n",
       "3       2009-12-01 07:45:00   2.10      13085.0  United Kingdom  100.80  \n",
       "4       2009-12-01 07:45:00   1.25      13085.0  United Kingdom   30.00  \n",
       "...                     ...    ...          ...             ...     ...  \n",
       "779277  2011-12-09 12:50:00   2.10      12680.0          France   12.60  \n",
       "779278  2011-12-09 12:50:00   4.15      12680.0          France   16.60  \n",
       "779279  2011-12-09 12:50:00   4.15      12680.0          France   16.60  \n",
       "779280  2011-12-09 12:50:00   4.95      12680.0          France   14.85  \n",
       "779281  2011-12-09 12:50:00  18.00      12680.0          France   18.00  \n",
       "\n",
       "[779282 rows x 9 columns]"
      ]
     },
     "execution_count": 8,
     "metadata": {},
     "output_type": "execute_result"
    }
   ],
   "source": [
    "df = pd.read_csv('cleaned_data.csv')\n",
    "df"
   ]
  },
  {
   "cell_type": "markdown",
   "id": "ac3b1065",
   "metadata": {},
   "source": [
    "# Familiarisation with the data"
   ]
  },
  {
   "cell_type": "code",
   "execution_count": 9,
   "id": "5b71f2b1",
   "metadata": {},
   "outputs": [
    {
     "data": {
      "text/plain": [
       "36969"
      ]
     },
     "execution_count": 9,
     "metadata": {},
     "output_type": "execute_result"
    }
   ],
   "source": [
    "# How many orders are there?\n",
    "df['invoice'].nunique()"
   ]
  },
  {
   "cell_type": "code",
   "execution_count": null,
   "id": "54f85cec",
   "metadata": {},
   "outputs": [],
   "source": [
    "# What is the average invoice amount/ basket size?\n"
   ]
  },
  {
   "cell_type": "code",
   "execution_count": 4,
   "id": "65d276ca",
   "metadata": {},
   "outputs": [],
   "source": [
    "# Which customers have the most invoices? (Group by customer and count the invoices)\n"
   ]
  },
  {
   "cell_type": "code",
   "execution_count": 10,
   "id": "00356ff4",
   "metadata": {},
   "outputs": [
    {
     "data": {
      "text/plain": [
       "604.5500000000001"
      ]
     },
     "execution_count": 10,
     "metadata": {},
     "output_type": "execute_result"
    }
   ],
   "source": [
    "# Which customer generated the most revenue?\n",
    "# here is code for one customer\n",
    "df[df[\"customer_id\"] == 16321.0][\"total\"].sum()\n",
    "# but I do actually remember that they have got refunded their stuff and in the end the turnover was just 260"
   ]
  },
  {
   "cell_type": "code",
   "execution_count": null,
   "id": "399a40e1",
   "metadata": {},
   "outputs": [],
   "source": [
    "# How many customers do we have?\n",
    "df['customer_id'].nunique()"
   ]
  },
  {
   "cell_type": "code",
   "execution_count": null,
   "id": "a4a1101c",
   "metadata": {},
   "outputs": [],
   "source": [
    "# How many countries?\n",
    "df['country'].nunique()"
   ]
  },
  {
   "cell_type": "code",
   "execution_count": null,
   "id": "91a839e2",
   "metadata": {},
   "outputs": [],
   "source": [
    "# How many customers per country? (Group by country and aggregate by customers count function)\n"
   ]
  },
  {
   "cell_type": "markdown",
   "id": "7426a86e",
   "metadata": {},
   "source": [
    "## Special topic: negative quantities / refunds"
   ]
  },
  {
   "cell_type": "code",
   "execution_count": null,
   "id": "9527f0a6",
   "metadata": {},
   "outputs": [],
   "source": [
    "df.dtypes"
   ]
  },
  {
   "cell_type": "code",
   "execution_count": null,
   "id": "661bc4d3",
   "metadata": {},
   "outputs": [],
   "source": [
    "# analyse why invoices is an object and not an integer\n",
    "alphabet_pattern = r'^[a-zA-Z].*'\n",
    "alphabet_values = df[\"invoice\"][df[\"invoice\"].str.match(alphabet_pattern)]\n",
    "alphabet_values\n",
    "# 19,5 have a letter"
   ]
  },
  {
   "cell_type": "code",
   "execution_count": null,
   "id": "f507bb96",
   "metadata": {},
   "outputs": [],
   "source": [
    "# let's have a look how are they different\n",
    "result01 = df.loc[df['invoice'] == 'C489449']\n",
    "result01\n",
    "# aaa, these are refunds!"
   ]
  },
  {
   "cell_type": "code",
   "execution_count": null,
   "id": "9a020adc",
   "metadata": {},
   "outputs": [],
   "source": [
    "# how many invoices in total?\n",
    "alphabet_values.nunique() \n",
    "# from 8,3k invoices!"
   ]
  },
  {
   "cell_type": "code",
   "execution_count": null,
   "id": "9fe98203",
   "metadata": {},
   "outputs": [],
   "source": [
    "# how many customers have made a refund?\n",
    "customer_ids_with_refund = df.loc[df['invoice'].isin(alphabet_values), 'customer_id'].unique()\n",
    "pd.Series(customer_ids_with_refund).nunique()\n",
    "# 2,5k customers"
   ]
  },
  {
   "cell_type": "code",
   "execution_count": null,
   "id": "65aa1552",
   "metadata": {},
   "outputs": [],
   "source": [
    "# find row with negative quantity\n",
    "negative_quatity = df.loc[df['quantity'] < 0]\n",
    "negative_quatity\n",
    "# 23k\n",
    "# why is this number different from the above approach???\n",
    "# it means there are more 3,5k more negative quantity entries than invoices starting with a letter"
   ]
  }
 ],
 "metadata": {
  "kernelspec": {
   "display_name": "Python 3 (ipykernel)",
   "language": "python",
   "name": "python3"
  },
  "language_info": {
   "codemirror_mode": {
    "name": "ipython",
    "version": 3
   },
   "file_extension": ".py",
   "mimetype": "text/x-python",
   "name": "python",
   "nbconvert_exporter": "python",
   "pygments_lexer": "ipython3",
   "version": "3.9.13"
  }
 },
 "nbformat": 4,
 "nbformat_minor": 5
}
