{
 "cells": [
  {
   "cell_type": "code",
   "execution_count": 1,
   "id": "1da95531",
   "metadata": {},
   "outputs": [],
   "source": [
    "import pandas as pd"
   ]
  },
  {
   "cell_type": "markdown",
   "id": "e87dcfd6",
   "metadata": {},
   "source": [
    "# Familiarisation with the data"
   ]
  },
  {
   "cell_type": "code",
   "execution_count": 2,
   "id": "0f9bc99c",
   "metadata": {},
   "outputs": [
    {
     "ename": "NameError",
     "evalue": "name 'df' is not defined",
     "output_type": "error",
     "traceback": [
      "\u001b[0;31m---------------------------------------------------------------------------\u001b[0m",
      "\u001b[0;31mNameError\u001b[0m                                 Traceback (most recent call last)",
      "\u001b[0;32m/var/folders/wq/2vxkh_6d4g7dpxkr5q82nxzh0000gn/T/ipykernel_3447/3990184983.py\u001b[0m in \u001b[0;36m<module>\u001b[0;34m\u001b[0m\n\u001b[0;32m----> 1\u001b[0;31m \u001b[0mdf\u001b[0m\u001b[0;34m.\u001b[0m\u001b[0minfo\u001b[0m\u001b[0;34m\u001b[0m\u001b[0;34m\u001b[0m\u001b[0m\n\u001b[0m",
      "\u001b[0;31mNameError\u001b[0m: name 'df' is not defined"
     ]
    }
   ],
   "source": [
    "# How many orders are there?\n",
    "df['invoice'].nunique()"
   ]
  },
  {
   "cell_type": "code",
   "execution_count": null,
   "id": "d2faa5f2",
   "metadata": {},
   "outputs": [],
   "source": [
    "# What is the average invoice amount/ basket size?\n"
   ]
  },
  {
   "cell_type": "code",
   "execution_count": 4,
   "id": "e30fa979",
   "metadata": {},
   "outputs": [],
   "source": [
    "# Which customers have the most invoices? (Group by customer and count the invoices)\n"
   ]
  },
  {
   "cell_type": "code",
   "execution_count": 5,
   "id": "6b174eb6",
   "metadata": {},
   "outputs": [
    {
     "ename": "NameError",
     "evalue": "name 'df' is not defined",
     "output_type": "error",
     "traceback": [
      "\u001b[0;31m---------------------------------------------------------------------------\u001b[0m",
      "\u001b[0;31mNameError\u001b[0m                                 Traceback (most recent call last)",
      "\u001b[0;32m/var/folders/wq/2vxkh_6d4g7dpxkr5q82nxzh0000gn/T/ipykernel_3447/4220979863.py\u001b[0m in \u001b[0;36m<module>\u001b[0;34m\u001b[0m\n\u001b[1;32m      1\u001b[0m \u001b[0;31m# Which customer generated the most revenue?\u001b[0m\u001b[0;34m\u001b[0m\u001b[0;34m\u001b[0m\u001b[0m\n\u001b[0;32m----> 2\u001b[0;31m \u001b[0mdf\u001b[0m\u001b[0;34m[\u001b[0m\u001b[0mdf\u001b[0m\u001b[0;34m[\u001b[0m\u001b[0;34m\"customer_id\"\u001b[0m\u001b[0;34m]\u001b[0m \u001b[0;34m==\u001b[0m \u001b[0;36m16321.0\u001b[0m\u001b[0;34m]\u001b[0m\u001b[0;34m[\u001b[0m\u001b[0;34m\"total\"\u001b[0m\u001b[0;34m]\u001b[0m\u001b[0;34m.\u001b[0m\u001b[0msum\u001b[0m\u001b[0;34m(\u001b[0m\u001b[0;34m)\u001b[0m\u001b[0;34m\u001b[0m\u001b[0;34m\u001b[0m\u001b[0m\n\u001b[0m",
      "\u001b[0;31mNameError\u001b[0m: name 'df' is not defined"
     ]
    }
   ],
   "source": [
    "# Which customer generated the most revenue?\n",
    "# here is code for one customer\n",
    "df[df[\"customer_id\"] == 16321.0][\"total\"].sum()"
   ]
  },
  {
   "cell_type": "code",
   "execution_count": null,
   "id": "7041cb36",
   "metadata": {},
   "outputs": [],
   "source": [
    "# How many customers do we have?\n",
    "df['customer_id'].nunique()"
   ]
  },
  {
   "cell_type": "code",
   "execution_count": null,
   "id": "fd74c32a",
   "metadata": {},
   "outputs": [],
   "source": [
    "# How many countries?\n",
    "df['country'].nunique()"
   ]
  },
  {
   "cell_type": "code",
   "execution_count": null,
   "id": "9e463ee8",
   "metadata": {},
   "outputs": [],
   "source": [
    "# How many customers per country? (Group by country and aggregate by customers count function)\n"
   ]
  },
  {
   "cell_type": "markdown",
   "id": "e4e4fd57",
   "metadata": {},
   "source": [
    "## Special topic: negative quantities / refunds"
   ]
  },
  {
   "cell_type": "code",
   "execution_count": null,
   "id": "1a1b2232",
   "metadata": {},
   "outputs": [],
   "source": [
    "df.dtypes"
   ]
  },
  {
   "cell_type": "code",
   "execution_count": null,
   "id": "ae9ed1da",
   "metadata": {},
   "outputs": [],
   "source": [
    "# analyse why invoices is an object and not an integer\n",
    "alphabet_pattern = r'^[a-zA-Z].*'\n",
    "alphabet_values = df[\"invoice\"][df[\"invoice\"].str.match(alphabet_pattern)]\n",
    "alphabet_values\n",
    "# 19,5 have a letter"
   ]
  },
  {
   "cell_type": "code",
   "execution_count": null,
   "id": "8de8631a",
   "metadata": {},
   "outputs": [],
   "source": [
    "# let's have a look how are they different\n",
    "result01 = df.loc[df['invoice'] == 'C489449']\n",
    "result01\n",
    "# aaa, these are refunds!"
   ]
  },
  {
   "cell_type": "code",
   "execution_count": null,
   "id": "c78e5f40",
   "metadata": {},
   "outputs": [],
   "source": [
    "# how many invoices in total?\n",
    "alphabet_values.nunique() \n",
    "# from 8,3k invoices!"
   ]
  },
  {
   "cell_type": "code",
   "execution_count": null,
   "id": "15ce49a3",
   "metadata": {},
   "outputs": [],
   "source": [
    "# how many customers have made a refund?\n",
    "customer_ids_with_refund = df.loc[df['invoice'].isin(alphabet_values), 'customer_id'].unique()\n",
    "pd.Series(customer_ids_with_refund).nunique()\n",
    "# 2,5k customers"
   ]
  },
  {
   "cell_type": "code",
   "execution_count": null,
   "id": "db4db20b",
   "metadata": {},
   "outputs": [],
   "source": [
    "# find row with negative quantity\n",
    "negative_quatity = df.loc[df['quantity'] < 0]\n",
    "negative_quatity\n",
    "# 23k\n",
    "# why is this number different from the above approach???\n",
    "# it means there are more 3,5k more negative quantity entries than invoices starting with a letter"
   ]
  }
 ],
 "metadata": {
  "kernelspec": {
   "display_name": "Python 3 (ipykernel)",
   "language": "python",
   "name": "python3"
  },
  "language_info": {
   "codemirror_mode": {
    "name": "ipython",
    "version": 3
   },
   "file_extension": ".py",
   "mimetype": "text/x-python",
   "name": "python",
   "nbconvert_exporter": "python",
   "pygments_lexer": "ipython3",
   "version": "3.9.13"
  }
 },
 "nbformat": 4,
 "nbformat_minor": 5
}
