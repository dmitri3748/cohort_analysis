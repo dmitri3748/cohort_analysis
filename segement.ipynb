{
 "cells": [
  {
   "cell_type": "code",
   "execution_count": 245,
   "id": "9d737262",
   "metadata": {},
   "outputs": [],
   "source": [
    "import pandas as pd\n",
    "import matplotlib.pyplot as plt\n",
    "%matplotlib inline\n",
    "import numpy as np\n",
    "import seaborn as sns\n",
    "import warnings\n",
    "warnings.filterwarnings(\"ignore\")"
   ]
  },
  {
   "cell_type": "code",
   "execution_count": 117,
   "id": "a9bff834",
   "metadata": {},
   "outputs": [],
   "source": [
    "df = pd.read_csv('df_after_cohort.csv')"
   ]
  },
  {
   "cell_type": "code",
   "execution_count": 243,
   "id": "afbb7d10",
   "metadata": {},
   "outputs": [
    {
     "data": {
      "text/html": [
       "<div>\n",
       "<style scoped>\n",
       "    .dataframe tbody tr th:only-of-type {\n",
       "        vertical-align: middle;\n",
       "    }\n",
       "\n",
       "    .dataframe tbody tr th {\n",
       "        vertical-align: top;\n",
       "    }\n",
       "\n",
       "    .dataframe thead th {\n",
       "        text-align: right;\n",
       "    }\n",
       "</style>\n",
       "<table border=\"1\" class=\"dataframe\">\n",
       "  <thead>\n",
       "    <tr style=\"text-align: right;\">\n",
       "      <th></th>\n",
       "      <th>Invoice</th>\n",
       "      <th>StockCode</th>\n",
       "      <th>Description</th>\n",
       "      <th>Quantity</th>\n",
       "      <th>InvoiceDate</th>\n",
       "      <th>Price</th>\n",
       "      <th>Customer ID</th>\n",
       "      <th>Country</th>\n",
       "      <th>InvoiceMonth</th>\n",
       "      <th>CohortMonth</th>\n",
       "      <th>CohortIndex</th>\n",
       "      <th>Diff</th>\n",
       "      <th>Revenue</th>\n",
       "    </tr>\n",
       "  </thead>\n",
       "  <tbody>\n",
       "    <tr>\n",
       "      <th>0</th>\n",
       "      <td>489434</td>\n",
       "      <td>85048</td>\n",
       "      <td>15CM CHRISTMAS GLASS BALL 20 LIGHTS</td>\n",
       "      <td>12</td>\n",
       "      <td>2009-12-01 07:45:00</td>\n",
       "      <td>6.95</td>\n",
       "      <td>13085.0</td>\n",
       "      <td>United Kingdom</td>\n",
       "      <td>2009-12-01</td>\n",
       "      <td>2009-12-01</td>\n",
       "      <td>1</td>\n",
       "      <td>373 days 12:16:00</td>\n",
       "      <td>83.40</td>\n",
       "    </tr>\n",
       "    <tr>\n",
       "      <th>1</th>\n",
       "      <td>489434</td>\n",
       "      <td>79323P</td>\n",
       "      <td>PINK CHERRY LIGHTS</td>\n",
       "      <td>12</td>\n",
       "      <td>2009-12-01 07:45:00</td>\n",
       "      <td>6.75</td>\n",
       "      <td>13085.0</td>\n",
       "      <td>United Kingdom</td>\n",
       "      <td>2009-12-01</td>\n",
       "      <td>2009-12-01</td>\n",
       "      <td>1</td>\n",
       "      <td>373 days 12:16:00</td>\n",
       "      <td>81.00</td>\n",
       "    </tr>\n",
       "    <tr>\n",
       "      <th>2</th>\n",
       "      <td>489434</td>\n",
       "      <td>79323W</td>\n",
       "      <td>WHITE CHERRY LIGHTS</td>\n",
       "      <td>12</td>\n",
       "      <td>2009-12-01 07:45:00</td>\n",
       "      <td>6.75</td>\n",
       "      <td>13085.0</td>\n",
       "      <td>United Kingdom</td>\n",
       "      <td>2009-12-01</td>\n",
       "      <td>2009-12-01</td>\n",
       "      <td>1</td>\n",
       "      <td>373 days 12:16:00</td>\n",
       "      <td>81.00</td>\n",
       "    </tr>\n",
       "    <tr>\n",
       "      <th>3</th>\n",
       "      <td>489434</td>\n",
       "      <td>22041</td>\n",
       "      <td>RECORD FRAME 7\" SINGLE SIZE</td>\n",
       "      <td>48</td>\n",
       "      <td>2009-12-01 07:45:00</td>\n",
       "      <td>2.10</td>\n",
       "      <td>13085.0</td>\n",
       "      <td>United Kingdom</td>\n",
       "      <td>2009-12-01</td>\n",
       "      <td>2009-12-01</td>\n",
       "      <td>1</td>\n",
       "      <td>373 days 12:16:00</td>\n",
       "      <td>100.80</td>\n",
       "    </tr>\n",
       "    <tr>\n",
       "      <th>4</th>\n",
       "      <td>489434</td>\n",
       "      <td>21232</td>\n",
       "      <td>STRAWBERRY CERAMIC TRINKET BOX</td>\n",
       "      <td>24</td>\n",
       "      <td>2009-12-01 07:45:00</td>\n",
       "      <td>1.25</td>\n",
       "      <td>13085.0</td>\n",
       "      <td>United Kingdom</td>\n",
       "      <td>2009-12-01</td>\n",
       "      <td>2009-12-01</td>\n",
       "      <td>1</td>\n",
       "      <td>373 days 12:16:00</td>\n",
       "      <td>30.00</td>\n",
       "    </tr>\n",
       "    <tr>\n",
       "      <th>...</th>\n",
       "      <td>...</td>\n",
       "      <td>...</td>\n",
       "      <td>...</td>\n",
       "      <td>...</td>\n",
       "      <td>...</td>\n",
       "      <td>...</td>\n",
       "      <td>...</td>\n",
       "      <td>...</td>\n",
       "      <td>...</td>\n",
       "      <td>...</td>\n",
       "      <td>...</td>\n",
       "      <td>...</td>\n",
       "      <td>...</td>\n",
       "    </tr>\n",
       "    <tr>\n",
       "      <th>417529</th>\n",
       "      <td>538171</td>\n",
       "      <td>22271</td>\n",
       "      <td>FELTCRAFT DOLL ROSIE</td>\n",
       "      <td>2</td>\n",
       "      <td>2010-12-09 20:01:00</td>\n",
       "      <td>2.95</td>\n",
       "      <td>17530.0</td>\n",
       "      <td>United Kingdom</td>\n",
       "      <td>2010-12-01</td>\n",
       "      <td>2009-12-01</td>\n",
       "      <td>13</td>\n",
       "      <td>0 days 00:00:00</td>\n",
       "      <td>5.90</td>\n",
       "    </tr>\n",
       "    <tr>\n",
       "      <th>417530</th>\n",
       "      <td>538171</td>\n",
       "      <td>22750</td>\n",
       "      <td>FELTCRAFT PRINCESS LOLA DOLL</td>\n",
       "      <td>1</td>\n",
       "      <td>2010-12-09 20:01:00</td>\n",
       "      <td>3.75</td>\n",
       "      <td>17530.0</td>\n",
       "      <td>United Kingdom</td>\n",
       "      <td>2010-12-01</td>\n",
       "      <td>2009-12-01</td>\n",
       "      <td>13</td>\n",
       "      <td>0 days 00:00:00</td>\n",
       "      <td>3.75</td>\n",
       "    </tr>\n",
       "    <tr>\n",
       "      <th>417531</th>\n",
       "      <td>538171</td>\n",
       "      <td>22751</td>\n",
       "      <td>FELTCRAFT PRINCESS OLIVIA DOLL</td>\n",
       "      <td>1</td>\n",
       "      <td>2010-12-09 20:01:00</td>\n",
       "      <td>3.75</td>\n",
       "      <td>17530.0</td>\n",
       "      <td>United Kingdom</td>\n",
       "      <td>2010-12-01</td>\n",
       "      <td>2009-12-01</td>\n",
       "      <td>13</td>\n",
       "      <td>0 days 00:00:00</td>\n",
       "      <td>3.75</td>\n",
       "    </tr>\n",
       "    <tr>\n",
       "      <th>417532</th>\n",
       "      <td>538171</td>\n",
       "      <td>20970</td>\n",
       "      <td>PINK FLORAL FELTCRAFT SHOULDER BAG</td>\n",
       "      <td>2</td>\n",
       "      <td>2010-12-09 20:01:00</td>\n",
       "      <td>3.75</td>\n",
       "      <td>17530.0</td>\n",
       "      <td>United Kingdom</td>\n",
       "      <td>2010-12-01</td>\n",
       "      <td>2009-12-01</td>\n",
       "      <td>13</td>\n",
       "      <td>0 days 00:00:00</td>\n",
       "      <td>7.50</td>\n",
       "    </tr>\n",
       "    <tr>\n",
       "      <th>417533</th>\n",
       "      <td>538171</td>\n",
       "      <td>21931</td>\n",
       "      <td>JUMBO STORAGE BAG SUKI</td>\n",
       "      <td>2</td>\n",
       "      <td>2010-12-09 20:01:00</td>\n",
       "      <td>1.95</td>\n",
       "      <td>17530.0</td>\n",
       "      <td>United Kingdom</td>\n",
       "      <td>2010-12-01</td>\n",
       "      <td>2009-12-01</td>\n",
       "      <td>13</td>\n",
       "      <td>0 days 00:00:00</td>\n",
       "      <td>3.90</td>\n",
       "    </tr>\n",
       "  </tbody>\n",
       "</table>\n",
       "<p>407695 rows × 13 columns</p>\n",
       "</div>"
      ],
      "text/plain": [
       "       Invoice StockCode                          Description  Quantity  \\\n",
       "0       489434     85048  15CM CHRISTMAS GLASS BALL 20 LIGHTS        12   \n",
       "1       489434    79323P                   PINK CHERRY LIGHTS        12   \n",
       "2       489434    79323W                  WHITE CHERRY LIGHTS        12   \n",
       "3       489434     22041         RECORD FRAME 7\" SINGLE SIZE         48   \n",
       "4       489434     21232       STRAWBERRY CERAMIC TRINKET BOX        24   \n",
       "...        ...       ...                                  ...       ...   \n",
       "417529  538171     22271                 FELTCRAFT DOLL ROSIE         2   \n",
       "417530  538171     22750         FELTCRAFT PRINCESS LOLA DOLL         1   \n",
       "417531  538171     22751       FELTCRAFT PRINCESS OLIVIA DOLL         1   \n",
       "417532  538171     20970   PINK FLORAL FELTCRAFT SHOULDER BAG         2   \n",
       "417533  538171     21931               JUMBO STORAGE BAG SUKI         2   \n",
       "\n",
       "               InvoiceDate  Price  Customer ID         Country InvoiceMonth  \\\n",
       "0      2009-12-01 07:45:00   6.95      13085.0  United Kingdom   2009-12-01   \n",
       "1      2009-12-01 07:45:00   6.75      13085.0  United Kingdom   2009-12-01   \n",
       "2      2009-12-01 07:45:00   6.75      13085.0  United Kingdom   2009-12-01   \n",
       "3      2009-12-01 07:45:00   2.10      13085.0  United Kingdom   2009-12-01   \n",
       "4      2009-12-01 07:45:00   1.25      13085.0  United Kingdom   2009-12-01   \n",
       "...                    ...    ...          ...             ...          ...   \n",
       "417529 2010-12-09 20:01:00   2.95      17530.0  United Kingdom   2010-12-01   \n",
       "417530 2010-12-09 20:01:00   3.75      17530.0  United Kingdom   2010-12-01   \n",
       "417531 2010-12-09 20:01:00   3.75      17530.0  United Kingdom   2010-12-01   \n",
       "417532 2010-12-09 20:01:00   3.75      17530.0  United Kingdom   2010-12-01   \n",
       "417533 2010-12-09 20:01:00   1.95      17530.0  United Kingdom   2010-12-01   \n",
       "\n",
       "       CohortMonth  CohortIndex              Diff  Revenue  \n",
       "0       2009-12-01            1 373 days 12:16:00    83.40  \n",
       "1       2009-12-01            1 373 days 12:16:00    81.00  \n",
       "2       2009-12-01            1 373 days 12:16:00    81.00  \n",
       "3       2009-12-01            1 373 days 12:16:00   100.80  \n",
       "4       2009-12-01            1 373 days 12:16:00    30.00  \n",
       "...            ...          ...               ...      ...  \n",
       "417529  2009-12-01           13   0 days 00:00:00     5.90  \n",
       "417530  2009-12-01           13   0 days 00:00:00     3.75  \n",
       "417531  2009-12-01           13   0 days 00:00:00     3.75  \n",
       "417532  2009-12-01           13   0 days 00:00:00     7.50  \n",
       "417533  2009-12-01           13   0 days 00:00:00     3.90  \n",
       "\n",
       "[407695 rows x 13 columns]"
      ]
     },
     "execution_count": 243,
     "metadata": {},
     "output_type": "execute_result"
    }
   ],
   "source": [
    "df"
   ]
  },
  {
   "cell_type": "code",
   "execution_count": 118,
   "id": "9fc10602",
   "metadata": {},
   "outputs": [],
   "source": [
    "# drop first column\n",
    "df = df.iloc[: , 1:]"
   ]
  },
  {
   "cell_type": "code",
   "execution_count": 119,
   "id": "868d2511",
   "metadata": {},
   "outputs": [],
   "source": [
    "# get rid of the negative quantity\n",
    "df = df[df[\"Quantity\"] > 0]"
   ]
  },
  {
   "cell_type": "code",
   "execution_count": 262,
   "id": "60eb620b",
   "metadata": {},
   "outputs": [
    {
     "data": {
      "text/html": [
       "<div>\n",
       "<style scoped>\n",
       "    .dataframe tbody tr th:only-of-type {\n",
       "        vertical-align: middle;\n",
       "    }\n",
       "\n",
       "    .dataframe tbody tr th {\n",
       "        vertical-align: top;\n",
       "    }\n",
       "\n",
       "    .dataframe thead th {\n",
       "        text-align: right;\n",
       "    }\n",
       "</style>\n",
       "<table border=\"1\" class=\"dataframe\">\n",
       "  <thead>\n",
       "    <tr style=\"text-align: right;\">\n",
       "      <th></th>\n",
       "      <th>Customer ID</th>\n",
       "      <th>Invoice</th>\n",
       "    </tr>\n",
       "  </thead>\n",
       "  <tbody>\n",
       "    <tr>\n",
       "      <th>0</th>\n",
       "      <td>12346.0</td>\n",
       "      <td>33</td>\n",
       "    </tr>\n",
       "    <tr>\n",
       "      <th>1</th>\n",
       "      <td>12347.0</td>\n",
       "      <td>71</td>\n",
       "    </tr>\n",
       "    <tr>\n",
       "      <th>2</th>\n",
       "      <td>12348.0</td>\n",
       "      <td>20</td>\n",
       "    </tr>\n",
       "    <tr>\n",
       "      <th>3</th>\n",
       "      <td>12349.0</td>\n",
       "      <td>102</td>\n",
       "    </tr>\n",
       "    <tr>\n",
       "      <th>4</th>\n",
       "      <td>12351.0</td>\n",
       "      <td>21</td>\n",
       "    </tr>\n",
       "    <tr>\n",
       "      <th>...</th>\n",
       "      <td>...</td>\n",
       "      <td>...</td>\n",
       "    </tr>\n",
       "    <tr>\n",
       "      <th>4309</th>\n",
       "      <td>18283.0</td>\n",
       "      <td>230</td>\n",
       "    </tr>\n",
       "    <tr>\n",
       "      <th>4310</th>\n",
       "      <td>18284.0</td>\n",
       "      <td>28</td>\n",
       "    </tr>\n",
       "    <tr>\n",
       "      <th>4311</th>\n",
       "      <td>18285.0</td>\n",
       "      <td>12</td>\n",
       "    </tr>\n",
       "    <tr>\n",
       "      <th>4312</th>\n",
       "      <td>18286.0</td>\n",
       "      <td>67</td>\n",
       "    </tr>\n",
       "    <tr>\n",
       "      <th>4313</th>\n",
       "      <td>18287.0</td>\n",
       "      <td>85</td>\n",
       "    </tr>\n",
       "  </tbody>\n",
       "</table>\n",
       "<p>4314 rows × 2 columns</p>\n",
       "</div>"
      ],
      "text/plain": [
       "      Customer ID  Invoice\n",
       "0         12346.0       33\n",
       "1         12347.0       71\n",
       "2         12348.0       20\n",
       "3         12349.0      102\n",
       "4         12351.0       21\n",
       "...           ...      ...\n",
       "4309      18283.0      230\n",
       "4310      18284.0       28\n",
       "4311      18285.0       12\n",
       "4312      18286.0       67\n",
       "4313      18287.0       85\n",
       "\n",
       "[4314 rows x 2 columns]"
      ]
     },
     "execution_count": 262,
     "metadata": {},
     "output_type": "execute_result"
    }
   ],
   "source": [
    "# frequency\n",
    "frequency = df.groupby('Customer ID')['Invoice'].count()\n",
    "frequency = frequency.reset_index()\n",
    "frequency"
   ]
  },
  {
   "cell_type": "code",
   "execution_count": 121,
   "id": "e64cfcc3",
   "metadata": {},
   "outputs": [],
   "source": [
    "# recency\n",
    "df['InvoiceDate'] = pd.to_datetime(df['InvoiceDate']) # change dateformat\n",
    "df['Diff'] = max(df['InvoiceDate'])-df['InvoiceDate'] # get the range of first and last\n",
    "recency = df.groupby('Customer ID')['Diff'].min() # find the last invoice date for each customer\n",
    "recency = recency.reset_index()\n",
    "recency['Diff'] = recency['Diff'].dt.days # get the days only without time"
   ]
  },
  {
   "cell_type": "code",
   "execution_count": 122,
   "id": "f9b8ce7b",
   "metadata": {},
   "outputs": [],
   "source": [
    "# monetary\n",
    "df['Revenue'] = df['Quantity'] * df['Price']\n",
    "monetary = df.groupby('Customer ID')['Revenue'].sum()\n",
    "monetary = monetary.reset_index()"
   ]
  },
  {
   "cell_type": "code",
   "execution_count": 69,
   "id": "0e7cdcd9",
   "metadata": {
    "collapsed": true
   },
   "outputs": [
    {
     "data": {
      "text/html": [
       "<div>\n",
       "<style scoped>\n",
       "    .dataframe tbody tr th:only-of-type {\n",
       "        vertical-align: middle;\n",
       "    }\n",
       "\n",
       "    .dataframe tbody tr th {\n",
       "        vertical-align: top;\n",
       "    }\n",
       "\n",
       "    .dataframe thead th {\n",
       "        text-align: right;\n",
       "    }\n",
       "</style>\n",
       "<table border=\"1\" class=\"dataframe\">\n",
       "  <thead>\n",
       "    <tr style=\"text-align: right;\">\n",
       "      <th></th>\n",
       "      <th>Customer ID</th>\n",
       "      <th>Recency</th>\n",
       "      <th>Frequency</th>\n",
       "      <th>Monetary</th>\n",
       "    </tr>\n",
       "  </thead>\n",
       "  <tbody>\n",
       "    <tr>\n",
       "      <th>0</th>\n",
       "      <td>12346.0</td>\n",
       "      <td>164</td>\n",
       "      <td>33</td>\n",
       "      <td>372.86</td>\n",
       "    </tr>\n",
       "    <tr>\n",
       "      <th>1</th>\n",
       "      <td>12347.0</td>\n",
       "      <td>2</td>\n",
       "      <td>71</td>\n",
       "      <td>1323.32</td>\n",
       "    </tr>\n",
       "    <tr>\n",
       "      <th>2</th>\n",
       "      <td>12348.0</td>\n",
       "      <td>73</td>\n",
       "      <td>20</td>\n",
       "      <td>222.16</td>\n",
       "    </tr>\n",
       "    <tr>\n",
       "      <th>3</th>\n",
       "      <td>12349.0</td>\n",
       "      <td>42</td>\n",
       "      <td>102</td>\n",
       "      <td>2671.14</td>\n",
       "    </tr>\n",
       "    <tr>\n",
       "      <th>4</th>\n",
       "      <td>12351.0</td>\n",
       "      <td>10</td>\n",
       "      <td>21</td>\n",
       "      <td>300.93</td>\n",
       "    </tr>\n",
       "    <tr>\n",
       "      <th>...</th>\n",
       "      <td>...</td>\n",
       "      <td>...</td>\n",
       "      <td>...</td>\n",
       "      <td>...</td>\n",
       "    </tr>\n",
       "    <tr>\n",
       "      <th>4309</th>\n",
       "      <td>18283.0</td>\n",
       "      <td>17</td>\n",
       "      <td>230</td>\n",
       "      <td>641.77</td>\n",
       "    </tr>\n",
       "    <tr>\n",
       "      <th>4310</th>\n",
       "      <td>18284.0</td>\n",
       "      <td>66</td>\n",
       "      <td>28</td>\n",
       "      <td>461.68</td>\n",
       "    </tr>\n",
       "    <tr>\n",
       "      <th>4311</th>\n",
       "      <td>18285.0</td>\n",
       "      <td>295</td>\n",
       "      <td>12</td>\n",
       "      <td>427.00</td>\n",
       "    </tr>\n",
       "    <tr>\n",
       "      <th>4312</th>\n",
       "      <td>18286.0</td>\n",
       "      <td>111</td>\n",
       "      <td>67</td>\n",
       "      <td>1296.43</td>\n",
       "    </tr>\n",
       "    <tr>\n",
       "      <th>4313</th>\n",
       "      <td>18287.0</td>\n",
       "      <td>17</td>\n",
       "      <td>85</td>\n",
       "      <td>2345.71</td>\n",
       "    </tr>\n",
       "  </tbody>\n",
       "</table>\n",
       "<p>4314 rows × 4 columns</p>\n",
       "</div>"
      ],
      "text/plain": [
       "      Customer ID  Recency  Frequency  Monetary\n",
       "0         12346.0      164         33    372.86\n",
       "1         12347.0        2         71   1323.32\n",
       "2         12348.0       73         20    222.16\n",
       "3         12349.0       42        102   2671.14\n",
       "4         12351.0       10         21    300.93\n",
       "...           ...      ...        ...       ...\n",
       "4309      18283.0       17        230    641.77\n",
       "4310      18284.0       66         28    461.68\n",
       "4311      18285.0      295         12    427.00\n",
       "4312      18286.0      111         67   1296.43\n",
       "4313      18287.0       17         85   2345.71\n",
       "\n",
       "[4314 rows x 4 columns]"
      ]
     },
     "execution_count": 69,
     "metadata": {},
     "output_type": "execute_result"
    }
   ],
   "source": [
    "# rfm\n",
    "rfm = pd.merge(recency, frequency, on='Customer ID', how='inner')\n",
    "rfm = pd.merge(rfm, monetary, on='Customer ID', how='inner')\n",
    "rfm.columns = ['Customer ID', 'Recency', 'Frequency', 'Monetary']\n",
    "rfm"
   ]
  },
  {
   "cell_type": "code",
   "execution_count": 97,
   "id": "3dd857fc",
   "metadata": {
    "collapsed": true
   },
   "outputs": [
    {
     "data": {
      "text/plain": [
       "array([[<AxesSubplot:title={'center':'Customer ID'}>,\n",
       "        <AxesSubplot:title={'center':'Recency'}>],\n",
       "       [<AxesSubplot:title={'center':'Frequency'}>,\n",
       "        <AxesSubplot:title={'center':'Monetary'}>]], dtype=object)"
      ]
     },
     "execution_count": 97,
     "metadata": {},
     "output_type": "execute_result"
    },
    {
     "data": {
      "image/png": "[encoded data removed]",
      "text/plain": [
       "<Figure size 640x480 with 4 Axes>"
      ]
     },
     "metadata": {},
     "output_type": "display_data"
    }
   ],
   "source": [
    "rfm.hist()"
   ]
  },
  {
   "cell_type": "code",
   "execution_count": 91,
   "id": "104964fc",
   "metadata": {
    "collapsed": true
   },
   "outputs": [
    {
     "data": {
      "text/plain": [
       "{'whiskers': [<matplotlib.lines.Line2D at 0x7fd0f9f0a430>,\n",
       "  <matplotlib.lines.Line2D at 0x7fd0f9f0a700>,\n",
       "  <matplotlib.lines.Line2D at 0x7fd0e03e7820>,\n",
       "  <matplotlib.lines.Line2D at 0x7fd0e03e7af0>,\n",
       "  <matplotlib.lines.Line2D at 0x7fd0e0414c10>,\n",
       "  <matplotlib.lines.Line2D at 0x7fd0e0414ee0>,\n",
       "  <matplotlib.lines.Line2D at 0x7fd0fba5d040>,\n",
       "  <matplotlib.lines.Line2D at 0x7fd0fba5d310>],\n",
       " 'caps': [<matplotlib.lines.Line2D at 0x7fd0f9f0a9d0>,\n",
       "  <matplotlib.lines.Line2D at 0x7fd0f9f0aca0>,\n",
       "  <matplotlib.lines.Line2D at 0x7fd0e03e7dc0>,\n",
       "  <matplotlib.lines.Line2D at 0x7fd0e04140d0>,\n",
       "  <matplotlib.lines.Line2D at 0x7fd0fba551f0>,\n",
       "  <matplotlib.lines.Line2D at 0x7fd0fba554c0>,\n",
       "  <matplotlib.lines.Line2D at 0x7fd0fba5d5e0>,\n",
       "  <matplotlib.lines.Line2D at 0x7fd0fba5d8b0>],\n",
       " 'boxes': [<matplotlib.lines.Line2D at 0x7fd0f9f0a160>,\n",
       "  <matplotlib.lines.Line2D at 0x7fd0e03e7550>,\n",
       "  <matplotlib.lines.Line2D at 0x7fd0e0414940>,\n",
       "  <matplotlib.lines.Line2D at 0x7fd0fba55d30>],\n",
       " 'medians': [<matplotlib.lines.Line2D at 0x7fd0f9f0af70>,\n",
       "  <matplotlib.lines.Line2D at 0x7fd0e04143a0>,\n",
       "  <matplotlib.lines.Line2D at 0x7fd0fba55790>,\n",
       "  <matplotlib.lines.Line2D at 0x7fd0fba5db80>],\n",
       " 'fliers': [<matplotlib.lines.Line2D at 0x7fd0e03e7280>,\n",
       "  <matplotlib.lines.Line2D at 0x7fd0e0414670>,\n",
       "  <matplotlib.lines.Line2D at 0x7fd0fba55a60>,\n",
       "  <matplotlib.lines.Line2D at 0x7fd0fba5de50>],\n",
       " 'means': []}"
      ]
     },
     "execution_count": 91,
     "metadata": {},
     "output_type": "execute_result"
    },
    {
     "data": {
      "image/png": "[encoded data removed]",
      "text/plain": [
       "<Figure size 640x480 with 1 Axes>"
      ]
     },
     "metadata": {},
     "output_type": "display_data"
    }
   ],
   "source": [
    "# check boxplots\n",
    "plt.boxplot(rfm)"
   ]
  },
  {
   "cell_type": "code",
   "execution_count": null,
   "id": "cc07d405",
   "metadata": {},
   "outputs": [],
   "source": [
    "# what I need to look at is why there are so huge outliers in revenue\n",
    "# for that is might be helpful to see how quantity is distributed and how price is distributed\n"
   ]
  },
  {
   "cell_type": "code",
   "execution_count": 92,
   "id": "9f04bfcf",
   "metadata": {
    "collapsed": true
   },
   "outputs": [
    {
     "data": {
      "text/plain": [
       "count    407695.000000\n",
       "mean          3.294188\n",
       "std          34.756655\n",
       "min           0.000000\n",
       "25%           1.250000\n",
       "50%           1.950000\n",
       "75%           3.750000\n",
       "max       10953.500000\n",
       "Name: Price, dtype: float64"
      ]
     },
     "execution_count": 92,
     "metadata": {},
     "output_type": "execute_result"
    }
   ],
   "source": [
    "# price\n",
    "df['Price'].describe()\n",
    "# there are crazy outliers\n",
    "# seems as if these are "
   ]
  },
  {
   "cell_type": "code",
   "execution_count": 94,
   "id": "4dc39b99",
   "metadata": {
    "collapsed": true
   },
   "outputs": [
    {
     "data": {
      "text/plain": [
       "<AxesSubplot:>"
      ]
     },
     "execution_count": 94,
     "metadata": {},
     "output_type": "execute_result"
    },
    {
     "data": {
      "image/png": "[encoded data removed]",
      "text/plain": [
       "<Figure size 640x480 with 1 Axes>"
      ]
     },
     "metadata": {},
     "output_type": "display_data"
    }
   ],
   "source": [
    "df['Quantity'].hist()"
   ]
  },
  {
   "cell_type": "code",
   "execution_count": 96,
   "id": "9386bbf0",
   "metadata": {
    "collapsed": true
   },
   "outputs": [
    {
     "data": {
      "text/plain": [
       "<AxesSubplot:>"
      ]
     },
     "execution_count": 96,
     "metadata": {},
     "output_type": "execute_result"
    },
    {
     "data": {
      "image/png": "[encoded data removed]",
      "text/plain": [
       "<Figure size 640x480 with 1 Axes>"
      ]
     },
     "metadata": {},
     "output_type": "display_data"
    }
   ],
   "source": [
    "df['Quantity'].describe() \n",
    "# here as well.\n",
    "# meaning that there wholesales customers\n",
    "\n",
    "# so, what shall be done is actually by customer and have a look how they differ"
   ]
  },
  {
   "cell_type": "code",
   "execution_count": 81,
   "id": "198801b9",
   "metadata": {},
   "outputs": [],
   "source": [
    "# find the one row with price equals 10953\n",
    "max_price = df[df['Price'] == 10468.8]"
   ]
  },
  {
   "cell_type": "code",
   "execution_count": 82,
   "id": "c77dd940",
   "metadata": {
    "collapsed": true
   },
   "outputs": [
    {
     "data": {
      "text/html": [
       "<div>\n",
       "<style scoped>\n",
       "    .dataframe tbody tr th:only-of-type {\n",
       "        vertical-align: middle;\n",
       "    }\n",
       "\n",
       "    .dataframe tbody tr th {\n",
       "        vertical-align: top;\n",
       "    }\n",
       "\n",
       "    .dataframe thead th {\n",
       "        text-align: right;\n",
       "    }\n",
       "</style>\n",
       "<table border=\"1\" class=\"dataframe\">\n",
       "  <thead>\n",
       "    <tr style=\"text-align: right;\">\n",
       "      <th></th>\n",
       "      <th>Invoice</th>\n",
       "      <th>StockCode</th>\n",
       "      <th>Description</th>\n",
       "      <th>Quantity</th>\n",
       "      <th>InvoiceDate</th>\n",
       "      <th>Price</th>\n",
       "      <th>Customer ID</th>\n",
       "      <th>Country</th>\n",
       "      <th>InvoiceMonth</th>\n",
       "      <th>CohortMonth</th>\n",
       "      <th>CohortIndex</th>\n",
       "      <th>Diff</th>\n",
       "      <th>Revenue</th>\n",
       "    </tr>\n",
       "  </thead>\n",
       "  <tbody>\n",
       "    <tr>\n",
       "      <th>284749</th>\n",
       "      <td>524159</td>\n",
       "      <td>M</td>\n",
       "      <td>Manual</td>\n",
       "      <td>1</td>\n",
       "      <td>2010-09-27 16:12:00</td>\n",
       "      <td>10468.8</td>\n",
       "      <td>14063.0</td>\n",
       "      <td>United Kingdom</td>\n",
       "      <td>2010-09-01</td>\n",
       "      <td>2009-12-01</td>\n",
       "      <td>10</td>\n",
       "      <td>73 days 03:49:00</td>\n",
       "      <td>10468.8</td>\n",
       "    </tr>\n",
       "  </tbody>\n",
       "</table>\n",
       "</div>"
      ],
      "text/plain": [
       "       Invoice StockCode Description  Quantity         InvoiceDate    Price  \\\n",
       "284749  524159         M      Manual         1 2010-09-27 16:12:00  10468.8   \n",
       "\n",
       "        Customer ID         Country InvoiceMonth CohortMonth  CohortIndex  \\\n",
       "284749      14063.0  United Kingdom   2010-09-01  2009-12-01           10   \n",
       "\n",
       "                   Diff  Revenue  \n",
       "284749 73 days 03:49:00  10468.8  "
      ]
     },
     "execution_count": 82,
     "metadata": {},
     "output_type": "execute_result"
    }
   ],
   "source": [
    "max_price"
   ]
  },
  {
   "cell_type": "code",
   "execution_count": 83,
   "id": "22b5709f",
   "metadata": {},
   "outputs": [],
   "source": [
    "df = df.drop(284749)"
   ]
  },
  {
   "cell_type": "code",
   "execution_count": 142,
   "id": "01b2589f",
   "metadata": {
    "collapsed": true
   },
   "outputs": [
    {
     "data": {
      "text/plain": [
       "{'whiskers': [<matplotlib.lines.Line2D at 0x7fd0fae4cd60>,\n",
       "  <matplotlib.lines.Line2D at 0x7fd0fca73070>],\n",
       " 'caps': [<matplotlib.lines.Line2D at 0x7fd0fca73340>,\n",
       "  <matplotlib.lines.Line2D at 0x7fd0fca73610>],\n",
       " 'boxes': [<matplotlib.lines.Line2D at 0x7fd0fae4ca90>],\n",
       " 'medians': [<matplotlib.lines.Line2D at 0x7fd0fca738e0>],\n",
       " 'fliers': [<matplotlib.lines.Line2D at 0x7fd0fca73bb0>],\n",
       " 'means': []}"
      ]
     },
     "execution_count": 142,
     "metadata": {},
     "output_type": "execute_result"
    },
    {
     "data": {
      "image/png": "[encoded data removed]",
      "text/plain": [
       "<Figure size 640x480 with 1 Axes>"
      ]
     },
     "metadata": {},
     "output_type": "display_data"
    }
   ],
   "source": [
    "plt.boxplot(df['Price'])"
   ]
  },
  {
   "cell_type": "code",
   "execution_count": 84,
   "id": "d0aeaa7a",
   "metadata": {
    "collapsed": true
   },
   "outputs": [
    {
     "data": {
      "text/plain": [
       "count    407693.000000\n",
       "mean          3.241659\n",
       "std          25.402079\n",
       "min           0.000000\n",
       "25%           1.250000\n",
       "50%           1.950000\n",
       "75%           3.750000\n",
       "max        8985.600000\n",
       "Name: Price, dtype: float64"
      ]
     },
     "execution_count": 84,
     "metadata": {},
     "output_type": "execute_result"
    }
   ],
   "source": [
    "df['Price'].describe()\n",
    "# but why would kick them out?\n",
    "\n",
    "\n",
    "# what I would need to do is to find customers that order a lot and all the others\n",
    "# this is segmentation"
   ]
  },
  {
   "cell_type": "code",
   "execution_count": 112,
   "id": "ce38e2f7",
   "metadata": {},
   "outputs": [
    {
     "data": {
      "text/plain": [
       "101066"
      ]
     },
     "execution_count": 112,
     "metadata": {},
     "output_type": "execute_result"
    }
   ],
   "source": [
    "df[\"Price\"].idxmax()"
   ]
  },
  {
   "cell_type": "code",
   "execution_count": 113,
   "id": "fd8dd342",
   "metadata": {},
   "outputs": [
    {
     "data": {
      "text/plain": [
       "True"
      ]
     },
     "execution_count": 113,
     "metadata": {},
     "output_type": "execute_result"
    }
   ],
   "source": [
    "101066 in df[df[\"StockCode\"] == \"M\"].index"
   ]
  },
  {
   "cell_type": "code",
   "execution_count": 126,
   "id": "66fba470",
   "metadata": {
    "collapsed": true
   },
   "outputs": [
    {
     "data": {
      "text/plain": [
       "count    407695.000000\n",
       "mean          3.294188\n",
       "std          34.756655\n",
       "min           0.000000\n",
       "25%           1.250000\n",
       "50%           1.950000\n",
       "75%           3.750000\n",
       "max       10953.500000\n",
       "Name: Price, dtype: float64"
      ]
     },
     "execution_count": 126,
     "metadata": {},
     "output_type": "execute_result"
    }
   ],
   "source": [
    "df['Price'].describe()"
   ]
  },
  {
   "cell_type": "code",
   "execution_count": 138,
   "id": "f5500ad3",
   "metadata": {},
   "outputs": [
    {
     "data": {
      "text/plain": [
       "8.5"
      ]
     },
     "execution_count": 138,
     "metadata": {},
     "output_type": "execute_result"
    }
   ],
   "source": [
    "threshold = df['Price'].quantile(0.95)\n",
    "threshold"
   ]
  },
  {
   "cell_type": "code",
   "execution_count": 139,
   "id": "a8566d4f",
   "metadata": {},
   "outputs": [
    {
     "data": {
      "text/plain": [
       "25172"
      ]
     },
     "execution_count": 139,
     "metadata": {},
     "output_type": "execute_result"
    }
   ],
   "source": [
    "count = (df['Price'] >= threshold).sum()\n",
    "count"
   ]
  },
  {
   "cell_type": "code",
   "execution_count": null,
   "id": "5be4d93b",
   "metadata": {},
   "outputs": [],
   "source": [
    "result = df[df['Price'] >= threshold]\n"
   ]
  },
  {
   "cell_type": "code",
   "execution_count": 258,
   "id": "621dd8f3",
   "metadata": {},
   "outputs": [
    {
     "data": {
      "text/html": [
       "<div>\n",
       "<style scoped>\n",
       "    .dataframe tbody tr th:only-of-type {\n",
       "        vertical-align: middle;\n",
       "    }\n",
       "\n",
       "    .dataframe tbody tr th {\n",
       "        vertical-align: top;\n",
       "    }\n",
       "\n",
       "    .dataframe thead th {\n",
       "        text-align: right;\n",
       "    }\n",
       "</style>\n",
       "<table border=\"1\" class=\"dataframe\">\n",
       "  <thead>\n",
       "    <tr style=\"text-align: right;\">\n",
       "      <th></th>\n",
       "      <th>Customer ID</th>\n",
       "      <th>Recency</th>\n",
       "      <th>Frequency</th>\n",
       "      <th>Monetary</th>\n",
       "    </tr>\n",
       "  </thead>\n",
       "  <tbody>\n",
       "    <tr>\n",
       "      <th>0</th>\n",
       "      <td>12346.0</td>\n",
       "      <td>164</td>\n",
       "      <td>33</td>\n",
       "      <td>372.86</td>\n",
       "    </tr>\n",
       "    <tr>\n",
       "      <th>1</th>\n",
       "      <td>12347.0</td>\n",
       "      <td>2</td>\n",
       "      <td>71</td>\n",
       "      <td>1323.32</td>\n",
       "    </tr>\n",
       "    <tr>\n",
       "      <th>2</th>\n",
       "      <td>12348.0</td>\n",
       "      <td>73</td>\n",
       "      <td>20</td>\n",
       "      <td>222.16</td>\n",
       "    </tr>\n",
       "    <tr>\n",
       "      <th>3</th>\n",
       "      <td>12349.0</td>\n",
       "      <td>42</td>\n",
       "      <td>102</td>\n",
       "      <td>2671.14</td>\n",
       "    </tr>\n",
       "    <tr>\n",
       "      <th>4</th>\n",
       "      <td>12351.0</td>\n",
       "      <td>10</td>\n",
       "      <td>21</td>\n",
       "      <td>300.93</td>\n",
       "    </tr>\n",
       "    <tr>\n",
       "      <th>...</th>\n",
       "      <td>...</td>\n",
       "      <td>...</td>\n",
       "      <td>...</td>\n",
       "      <td>...</td>\n",
       "    </tr>\n",
       "    <tr>\n",
       "      <th>4309</th>\n",
       "      <td>18283.0</td>\n",
       "      <td>17</td>\n",
       "      <td>230</td>\n",
       "      <td>641.77</td>\n",
       "    </tr>\n",
       "    <tr>\n",
       "      <th>4310</th>\n",
       "      <td>18284.0</td>\n",
       "      <td>66</td>\n",
       "      <td>28</td>\n",
       "      <td>461.68</td>\n",
       "    </tr>\n",
       "    <tr>\n",
       "      <th>4311</th>\n",
       "      <td>18285.0</td>\n",
       "      <td>295</td>\n",
       "      <td>12</td>\n",
       "      <td>427.00</td>\n",
       "    </tr>\n",
       "    <tr>\n",
       "      <th>4312</th>\n",
       "      <td>18286.0</td>\n",
       "      <td>111</td>\n",
       "      <td>67</td>\n",
       "      <td>1296.43</td>\n",
       "    </tr>\n",
       "    <tr>\n",
       "      <th>4313</th>\n",
       "      <td>18287.0</td>\n",
       "      <td>17</td>\n",
       "      <td>85</td>\n",
       "      <td>2345.71</td>\n",
       "    </tr>\n",
       "  </tbody>\n",
       "</table>\n",
       "<p>4314 rows × 4 columns</p>\n",
       "</div>"
      ],
      "text/plain": [
       "      Customer ID  Recency  Frequency  Monetary\n",
       "0         12346.0      164         33    372.86\n",
       "1         12347.0        2         71   1323.32\n",
       "2         12348.0       73         20    222.16\n",
       "3         12349.0       42        102   2671.14\n",
       "4         12351.0       10         21    300.93\n",
       "...           ...      ...        ...       ...\n",
       "4309      18283.0       17        230    641.77\n",
       "4310      18284.0       66         28    461.68\n",
       "4311      18285.0      295         12    427.00\n",
       "4312      18286.0      111         67   1296.43\n",
       "4313      18287.0       17         85   2345.71\n",
       "\n",
       "[4314 rows x 4 columns]"
      ]
     },
     "execution_count": 258,
     "metadata": {},
     "output_type": "execute_result"
    }
   ],
   "source": [
    "rfm"
   ]
  },
  {
   "cell_type": "code",
   "execution_count": 143,
   "id": "c9b58cdb",
   "metadata": {},
   "outputs": [],
   "source": [
    "# oh, now I see, scaling might help me to better understand how the data is distributed\n",
    "from sklearn.preprocessing import StandardScaler"
   ]
  },
  {
   "cell_type": "code",
   "execution_count": 144,
   "id": "161001b7",
   "metadata": {},
   "outputs": [],
   "source": [
    "scaler = StandardScaler()"
   ]
  },
  {
   "cell_type": "code",
   "execution_count": 145,
   "id": "a718478c",
   "metadata": {},
   "outputs": [],
   "source": [
    "rfm_ss = rfm[['Recency', 'Frequency', 'Monetary']]"
   ]
  },
  {
   "cell_type": "code",
   "execution_count": 146,
   "id": "6c82480a",
   "metadata": {
    "collapsed": true
   },
   "outputs": [
    {
     "data": {
      "text/html": [
       "<div>\n",
       "<style scoped>\n",
       "    .dataframe tbody tr th:only-of-type {\n",
       "        vertical-align: middle;\n",
       "    }\n",
       "\n",
       "    .dataframe tbody tr th {\n",
       "        vertical-align: top;\n",
       "    }\n",
       "\n",
       "    .dataframe thead th {\n",
       "        text-align: right;\n",
       "    }\n",
       "</style>\n",
       "<table border=\"1\" class=\"dataframe\">\n",
       "  <thead>\n",
       "    <tr style=\"text-align: right;\">\n",
       "      <th></th>\n",
       "      <th>Recency</th>\n",
       "      <th>Frequency</th>\n",
       "      <th>Monetary</th>\n",
       "    </tr>\n",
       "  </thead>\n",
       "  <tbody>\n",
       "    <tr>\n",
       "      <th>0</th>\n",
       "      <td>164</td>\n",
       "      <td>33</td>\n",
       "      <td>372.86</td>\n",
       "    </tr>\n",
       "    <tr>\n",
       "      <th>1</th>\n",
       "      <td>2</td>\n",
       "      <td>71</td>\n",
       "      <td>1323.32</td>\n",
       "    </tr>\n",
       "    <tr>\n",
       "      <th>2</th>\n",
       "      <td>73</td>\n",
       "      <td>20</td>\n",
       "      <td>222.16</td>\n",
       "    </tr>\n",
       "    <tr>\n",
       "      <th>3</th>\n",
       "      <td>42</td>\n",
       "      <td>102</td>\n",
       "      <td>2671.14</td>\n",
       "    </tr>\n",
       "    <tr>\n",
       "      <th>4</th>\n",
       "      <td>10</td>\n",
       "      <td>21</td>\n",
       "      <td>300.93</td>\n",
       "    </tr>\n",
       "    <tr>\n",
       "      <th>...</th>\n",
       "      <td>...</td>\n",
       "      <td>...</td>\n",
       "      <td>...</td>\n",
       "    </tr>\n",
       "    <tr>\n",
       "      <th>4309</th>\n",
       "      <td>17</td>\n",
       "      <td>230</td>\n",
       "      <td>641.77</td>\n",
       "    </tr>\n",
       "    <tr>\n",
       "      <th>4310</th>\n",
       "      <td>66</td>\n",
       "      <td>28</td>\n",
       "      <td>461.68</td>\n",
       "    </tr>\n",
       "    <tr>\n",
       "      <th>4311</th>\n",
       "      <td>295</td>\n",
       "      <td>12</td>\n",
       "      <td>427.00</td>\n",
       "    </tr>\n",
       "    <tr>\n",
       "      <th>4312</th>\n",
       "      <td>111</td>\n",
       "      <td>67</td>\n",
       "      <td>1296.43</td>\n",
       "    </tr>\n",
       "    <tr>\n",
       "      <th>4313</th>\n",
       "      <td>17</td>\n",
       "      <td>85</td>\n",
       "      <td>2345.71</td>\n",
       "    </tr>\n",
       "  </tbody>\n",
       "</table>\n",
       "<p>4314 rows × 3 columns</p>\n",
       "</div>"
      ],
      "text/plain": [
       "      Recency  Frequency  Monetary\n",
       "0         164         33    372.86\n",
       "1           2         71   1323.32\n",
       "2          73         20    222.16\n",
       "3          42        102   2671.14\n",
       "4          10         21    300.93\n",
       "...       ...        ...       ...\n",
       "4309       17        230    641.77\n",
       "4310       66         28    461.68\n",
       "4311      295         12    427.00\n",
       "4312      111         67   1296.43\n",
       "4313       17         85   2345.71\n",
       "\n",
       "[4314 rows x 3 columns]"
      ]
     },
     "execution_count": 146,
     "metadata": {},
     "output_type": "execute_result"
    }
   ],
   "source": [
    "rfm_ss"
   ]
  },
  {
   "cell_type": "code",
   "execution_count": 147,
   "id": "91ed7b72",
   "metadata": {},
   "outputs": [],
   "source": [
    "rfm_ss = scaler.fit_transform(rfm_ss)"
   ]
  },
  {
   "cell_type": "code",
   "execution_count": 148,
   "id": "746add94",
   "metadata": {},
   "outputs": [],
   "source": [
    "rfm_ss = pd.DataFrame(rfm_ss)"
   ]
  },
  {
   "cell_type": "code",
   "execution_count": 159,
   "id": "bfd66063",
   "metadata": {},
   "outputs": [],
   "source": [
    "rfm_ss = rfm_ss.round(2)"
   ]
  },
  {
   "cell_type": "code",
   "execution_count": 160,
   "id": "e118efa2",
   "metadata": {
    "collapsed": true
   },
   "outputs": [
    {
     "data": {
      "text/plain": [
       "{'whiskers': [<matplotlib.lines.Line2D at 0x7fd0a9aed8b0>,\n",
       "  <matplotlib.lines.Line2D at 0x7fd0a9aedb80>,\n",
       "  <matplotlib.lines.Line2D at 0x7fd0a9af8ca0>,\n",
       "  <matplotlib.lines.Line2D at 0x7fd0a9af8f70>,\n",
       "  <matplotlib.lines.Line2D at 0x7fd0a9b130d0>,\n",
       "  <matplotlib.lines.Line2D at 0x7fd0a9b133a0>],\n",
       " 'caps': [<matplotlib.lines.Line2D at 0x7fd0a9aede50>,\n",
       "  <matplotlib.lines.Line2D at 0x7fd0a9af8160>,\n",
       "  <matplotlib.lines.Line2D at 0x7fd0a9b05280>,\n",
       "  <matplotlib.lines.Line2D at 0x7fd0a9b05550>,\n",
       "  <matplotlib.lines.Line2D at 0x7fd0a9b13670>,\n",
       "  <matplotlib.lines.Line2D at 0x7fd0a9b13940>],\n",
       " 'boxes': [<matplotlib.lines.Line2D at 0x7fd0a9aed5e0>,\n",
       "  <matplotlib.lines.Line2D at 0x7fd0a9af89d0>,\n",
       "  <matplotlib.lines.Line2D at 0x7fd0a9b05dc0>],\n",
       " 'medians': [<matplotlib.lines.Line2D at 0x7fd0a9af8430>,\n",
       "  <matplotlib.lines.Line2D at 0x7fd0a9b05820>,\n",
       "  <matplotlib.lines.Line2D at 0x7fd0a9b13c10>],\n",
       " 'fliers': [<matplotlib.lines.Line2D at 0x7fd0a9af8700>,\n",
       "  <matplotlib.lines.Line2D at 0x7fd0a9b05af0>,\n",
       "  <matplotlib.lines.Line2D at 0x7fd0a9b13ee0>],\n",
       " 'means': []}"
      ]
     },
     "execution_count": 160,
     "metadata": {},
     "output_type": "execute_result"
    },
    {
     "data": {
      "image/png": "[encoded data removed]",
      "text/plain": [
       "<Figure size 640x480 with 1 Axes>"
      ]
     },
     "metadata": {},
     "output_type": "display_data"
    }
   ],
   "source": [
    "plt.boxplot(rfm_ss)"
   ]
  },
  {
   "cell_type": "code",
   "execution_count": null,
   "id": "164574b0",
   "metadata": {},
   "outputs": [],
   "source": [
    "# this shows that some are ordering very often, others less\n",
    "# majoriry generates low revenue while other do the heavy lifting\n",
    "# so, it is just amazing if one could cluster them properly\n",
    "\n",
    "\n",
    "# so, the cohort analysis showed us quickly that we need to work on customer retention\n",
    "# and the segmentation might help us to identify how to segment the customers\n",
    "\n",
    "# another question is how to make the findings visuals for the segmentation analysis\n",
    "\n",
    "# now I could set the threshold for 10 at monetary\n",
    "# and 15 for frquency\n",
    "\n",
    "\n",
    "# Ive got the RMF\n",
    "# then I need the score\n",
    "# but I need to kick out the outliers first\n"
   ]
  },
  {
   "cell_type": "code",
   "execution_count": 162,
   "id": "8bfc55b9",
   "metadata": {
    "collapsed": true
   },
   "outputs": [
    {
     "data": {
      "text/plain": [
       "count    4314.000000\n",
       "mean        0.000480\n",
       "std         0.999964\n",
       "min        -0.460000\n",
       "25%        -0.380000\n",
       "50%        -0.250000\n",
       "75%         0.040000\n",
       "max        27.110000\n",
       "Name: 1, dtype: float64"
      ]
     },
     "execution_count": 162,
     "metadata": {},
     "output_type": "execute_result"
    }
   ],
   "source": [
    "rfm_ss[1].describe()"
   ]
  },
  {
   "cell_type": "code",
   "execution_count": null,
   "id": "1993eb12",
   "metadata": {},
   "outputs": [],
   "source": [
    "# oh, this is not how this works\n",
    "# the scaling didnt help to understand anything"
   ]
  },
  {
   "cell_type": "code",
   "execution_count": 163,
   "id": "09b94021",
   "metadata": {
    "collapsed": true
   },
   "outputs": [
    {
     "data": {
      "text/plain": [
       "array([[<AxesSubplot:title={'center':'0'}>,\n",
       "        <AxesSubplot:title={'center':'1'}>],\n",
       "       [<AxesSubplot:title={'center':'2'}>, <AxesSubplot:>]], dtype=object)"
      ]
     },
     "execution_count": 163,
     "metadata": {},
     "output_type": "execute_result"
    },
    {
     "data": {
      "image/png": "[encoded data removed]",
      "text/plain": [
       "<Figure size 640x480 with 4 Axes>"
      ]
     },
     "metadata": {},
     "output_type": "display_data"
    }
   ],
   "source": [
    "rfm_ss.hist()"
   ]
  },
  {
   "cell_type": "code",
   "execution_count": 179,
   "id": "15cb4ea9",
   "metadata": {},
   "outputs": [],
   "source": [
    "threshold = 10"
   ]
  },
  {
   "cell_type": "code",
   "execution_count": 251,
   "id": "f8246456",
   "metadata": {},
   "outputs": [
    {
     "data": {
      "text/html": [
       "<div>\n",
       "<style scoped>\n",
       "    .dataframe tbody tr th:only-of-type {\n",
       "        vertical-align: middle;\n",
       "    }\n",
       "\n",
       "    .dataframe tbody tr th {\n",
       "        vertical-align: top;\n",
       "    }\n",
       "\n",
       "    .dataframe thead th {\n",
       "        text-align: right;\n",
       "    }\n",
       "</style>\n",
       "<table border=\"1\" class=\"dataframe\">\n",
       "  <thead>\n",
       "    <tr style=\"text-align: right;\">\n",
       "      <th></th>\n",
       "      <th>0</th>\n",
       "      <th>1</th>\n",
       "      <th>2</th>\n",
       "      <th>Customer ID</th>\n",
       "    </tr>\n",
       "  </thead>\n",
       "  <tbody>\n",
       "    <tr>\n",
       "      <th>0</th>\n",
       "      <td>0.76</td>\n",
       "      <td>-0.30</td>\n",
       "      <td>-0.19</td>\n",
       "      <td>12346.0</td>\n",
       "    </tr>\n",
       "    <tr>\n",
       "      <th>1</th>\n",
       "      <td>-0.91</td>\n",
       "      <td>-0.12</td>\n",
       "      <td>-0.08</td>\n",
       "      <td>12347.0</td>\n",
       "    </tr>\n",
       "    <tr>\n",
       "      <th>2</th>\n",
       "      <td>-0.18</td>\n",
       "      <td>-0.37</td>\n",
       "      <td>-0.20</td>\n",
       "      <td>12348.0</td>\n",
       "    </tr>\n",
       "    <tr>\n",
       "      <th>3</th>\n",
       "      <td>-0.50</td>\n",
       "      <td>0.04</td>\n",
       "      <td>0.07</td>\n",
       "      <td>12349.0</td>\n",
       "    </tr>\n",
       "    <tr>\n",
       "      <th>4</th>\n",
       "      <td>-0.83</td>\n",
       "      <td>-0.36</td>\n",
       "      <td>-0.20</td>\n",
       "      <td>12351.0</td>\n",
       "    </tr>\n",
       "    <tr>\n",
       "      <th>...</th>\n",
       "      <td>...</td>\n",
       "      <td>...</td>\n",
       "      <td>...</td>\n",
       "      <td>...</td>\n",
       "    </tr>\n",
       "    <tr>\n",
       "      <th>4309</th>\n",
       "      <td>-0.76</td>\n",
       "      <td>0.67</td>\n",
       "      <td>-0.16</td>\n",
       "      <td>18283.0</td>\n",
       "    </tr>\n",
       "    <tr>\n",
       "      <th>4310</th>\n",
       "      <td>-0.25</td>\n",
       "      <td>-0.33</td>\n",
       "      <td>-0.18</td>\n",
       "      <td>18284.0</td>\n",
       "    </tr>\n",
       "    <tr>\n",
       "      <th>4311</th>\n",
       "      <td>2.11</td>\n",
       "      <td>-0.41</td>\n",
       "      <td>-0.18</td>\n",
       "      <td>18285.0</td>\n",
       "    </tr>\n",
       "    <tr>\n",
       "      <th>4312</th>\n",
       "      <td>0.21</td>\n",
       "      <td>-0.14</td>\n",
       "      <td>-0.08</td>\n",
       "      <td>18286.0</td>\n",
       "    </tr>\n",
       "    <tr>\n",
       "      <th>4313</th>\n",
       "      <td>-0.76</td>\n",
       "      <td>-0.05</td>\n",
       "      <td>0.03</td>\n",
       "      <td>18287.0</td>\n",
       "    </tr>\n",
       "  </tbody>\n",
       "</table>\n",
       "<p>4314 rows × 4 columns</p>\n",
       "</div>"
      ],
      "text/plain": [
       "         0     1     2  Customer ID\n",
       "0     0.76 -0.30 -0.19      12346.0\n",
       "1    -0.91 -0.12 -0.08      12347.0\n",
       "2    -0.18 -0.37 -0.20      12348.0\n",
       "3    -0.50  0.04  0.07      12349.0\n",
       "4    -0.83 -0.36 -0.20      12351.0\n",
       "...    ...   ...   ...          ...\n",
       "4309 -0.76  0.67 -0.16      18283.0\n",
       "4310 -0.25 -0.33 -0.18      18284.0\n",
       "4311  2.11 -0.41 -0.18      18285.0\n",
       "4312  0.21 -0.14 -0.08      18286.0\n",
       "4313 -0.76 -0.05  0.03      18287.0\n",
       "\n",
       "[4314 rows x 4 columns]"
      ]
     },
     "execution_count": 251,
     "metadata": {},
     "output_type": "execute_result"
    }
   ],
   "source": [
    "# kick all out above threshold of 10\n",
    "rfm_ss"
   ]
  },
  {
   "cell_type": "code",
   "execution_count": 180,
   "id": "0462186a",
   "metadata": {},
   "outputs": [
    {
     "data": {
      "text/plain": [
       "7"
      ]
     },
     "execution_count": 180,
     "metadata": {},
     "output_type": "execute_result"
    }
   ],
   "source": [
    "count_freq = (rfm_ss[1] >= threshold_freq).sum()\n",
    "count_freq"
   ]
  },
  {
   "cell_type": "code",
   "execution_count": 181,
   "id": "47ae5701",
   "metadata": {},
   "outputs": [
    {
     "data": {
      "text/plain": [
       "5"
      ]
     },
     "execution_count": 181,
     "metadata": {},
     "output_type": "execute_result"
    }
   ],
   "source": [
    "count_monet = (rfm_ss[2] >= threshold_freq).sum()\n",
    "count_monet"
   ]
  },
  {
   "cell_type": "code",
   "execution_count": 185,
   "id": "de20a8bd",
   "metadata": {
    "collapsed": true
   },
   "outputs": [
    {
     "data": {
      "text/plain": [
       "{'whiskers': [<matplotlib.lines.Line2D at 0x7fd0eb434700>,\n",
       "  <matplotlib.lines.Line2D at 0x7fd0eb4349d0>],\n",
       " 'caps': [<matplotlib.lines.Line2D at 0x7fd0eb434ca0>,\n",
       "  <matplotlib.lines.Line2D at 0x7fd0eb434f70>],\n",
       " 'boxes': [<matplotlib.lines.Line2D at 0x7fd0eb434430>],\n",
       " 'medians': [<matplotlib.lines.Line2D at 0x7fd0eac93280>],\n",
       " 'fliers': [<matplotlib.lines.Line2D at 0x7fd0eac93550>],\n",
       " 'means': []}"
      ]
     },
     "execution_count": 185,
     "metadata": {},
     "output_type": "execute_result"
    },
    {
     "data": {
      "image/png": "[encoded data removed]",
      "text/plain": [
       "<Figure size 640x480 with 1 Axes>"
      ]
     },
     "metadata": {},
     "output_type": "display_data"
    }
   ],
   "source": [
    "plt.boxplot(rfm_ss[1])\n"
   ]
  },
  {
   "cell_type": "code",
   "execution_count": 186,
   "id": "c852616f",
   "metadata": {
    "collapsed": true
   },
   "outputs": [
    {
     "data": {
      "text/plain": [
       "{'whiskers': [<matplotlib.lines.Line2D at 0x7fd0daf6a700>,\n",
       "  <matplotlib.lines.Line2D at 0x7fd0daf6a9d0>],\n",
       " 'caps': [<matplotlib.lines.Line2D at 0x7fd0daf6aca0>,\n",
       "  <matplotlib.lines.Line2D at 0x7fd0daf6af70>],\n",
       " 'boxes': [<matplotlib.lines.Line2D at 0x7fd0daf6a400>],\n",
       " 'medians': [<matplotlib.lines.Line2D at 0x7fd0daf79280>],\n",
       " 'fliers': [<matplotlib.lines.Line2D at 0x7fd0daf79550>],\n",
       " 'means': []}"
      ]
     },
     "execution_count": 186,
     "metadata": {},
     "output_type": "execute_result"
    },
    {
     "data": {
      "image/png": "[encoded data removed]",
      "text/plain": [
       "<Figure size 640x480 with 1 Axes>"
      ]
     },
     "metadata": {},
     "output_type": "display_data"
    }
   ],
   "source": [
    "plt.boxplot(rfm_ss[2])\n",
    "\n"
   ]
  },
  {
   "cell_type": "code",
   "execution_count": 252,
   "id": "c31e877f",
   "metadata": {},
   "outputs": [],
   "source": [
    "rfm_cleaned = rfm_ss[(rfm_ss.iloc[:, 0] < 10) & (rfm_ss.iloc[:, 1] < 10)]\n"
   ]
  },
  {
   "cell_type": "code",
   "execution_count": 253,
   "id": "12663a56",
   "metadata": {},
   "outputs": [
    {
     "data": {
      "text/html": [
       "<div>\n",
       "<style scoped>\n",
       "    .dataframe tbody tr th:only-of-type {\n",
       "        vertical-align: middle;\n",
       "    }\n",
       "\n",
       "    .dataframe tbody tr th {\n",
       "        vertical-align: top;\n",
       "    }\n",
       "\n",
       "    .dataframe thead th {\n",
       "        text-align: right;\n",
       "    }\n",
       "</style>\n",
       "<table border=\"1\" class=\"dataframe\">\n",
       "  <thead>\n",
       "    <tr style=\"text-align: right;\">\n",
       "      <th></th>\n",
       "      <th>0</th>\n",
       "      <th>1</th>\n",
       "      <th>2</th>\n",
       "      <th>Customer ID</th>\n",
       "    </tr>\n",
       "  </thead>\n",
       "  <tbody>\n",
       "    <tr>\n",
       "      <th>0</th>\n",
       "      <td>0.76</td>\n",
       "      <td>-0.30</td>\n",
       "      <td>-0.19</td>\n",
       "      <td>12346.0</td>\n",
       "    </tr>\n",
       "    <tr>\n",
       "      <th>1</th>\n",
       "      <td>-0.91</td>\n",
       "      <td>-0.12</td>\n",
       "      <td>-0.08</td>\n",
       "      <td>12347.0</td>\n",
       "    </tr>\n",
       "    <tr>\n",
       "      <th>2</th>\n",
       "      <td>-0.18</td>\n",
       "      <td>-0.37</td>\n",
       "      <td>-0.20</td>\n",
       "      <td>12348.0</td>\n",
       "    </tr>\n",
       "    <tr>\n",
       "      <th>3</th>\n",
       "      <td>-0.50</td>\n",
       "      <td>0.04</td>\n",
       "      <td>0.07</td>\n",
       "      <td>12349.0</td>\n",
       "    </tr>\n",
       "    <tr>\n",
       "      <th>4</th>\n",
       "      <td>-0.83</td>\n",
       "      <td>-0.36</td>\n",
       "      <td>-0.20</td>\n",
       "      <td>12351.0</td>\n",
       "    </tr>\n",
       "    <tr>\n",
       "      <th>...</th>\n",
       "      <td>...</td>\n",
       "      <td>...</td>\n",
       "      <td>...</td>\n",
       "      <td>...</td>\n",
       "    </tr>\n",
       "    <tr>\n",
       "      <th>4309</th>\n",
       "      <td>-0.76</td>\n",
       "      <td>0.67</td>\n",
       "      <td>-0.16</td>\n",
       "      <td>18283.0</td>\n",
       "    </tr>\n",
       "    <tr>\n",
       "      <th>4310</th>\n",
       "      <td>-0.25</td>\n",
       "      <td>-0.33</td>\n",
       "      <td>-0.18</td>\n",
       "      <td>18284.0</td>\n",
       "    </tr>\n",
       "    <tr>\n",
       "      <th>4311</th>\n",
       "      <td>2.11</td>\n",
       "      <td>-0.41</td>\n",
       "      <td>-0.18</td>\n",
       "      <td>18285.0</td>\n",
       "    </tr>\n",
       "    <tr>\n",
       "      <th>4312</th>\n",
       "      <td>0.21</td>\n",
       "      <td>-0.14</td>\n",
       "      <td>-0.08</td>\n",
       "      <td>18286.0</td>\n",
       "    </tr>\n",
       "    <tr>\n",
       "      <th>4313</th>\n",
       "      <td>-0.76</td>\n",
       "      <td>-0.05</td>\n",
       "      <td>0.03</td>\n",
       "      <td>18287.0</td>\n",
       "    </tr>\n",
       "  </tbody>\n",
       "</table>\n",
       "<p>4307 rows × 4 columns</p>\n",
       "</div>"
      ],
      "text/plain": [
       "         0     1     2  Customer ID\n",
       "0     0.76 -0.30 -0.19      12346.0\n",
       "1    -0.91 -0.12 -0.08      12347.0\n",
       "2    -0.18 -0.37 -0.20      12348.0\n",
       "3    -0.50  0.04  0.07      12349.0\n",
       "4    -0.83 -0.36 -0.20      12351.0\n",
       "...    ...   ...   ...          ...\n",
       "4309 -0.76  0.67 -0.16      18283.0\n",
       "4310 -0.25 -0.33 -0.18      18284.0\n",
       "4311  2.11 -0.41 -0.18      18285.0\n",
       "4312  0.21 -0.14 -0.08      18286.0\n",
       "4313 -0.76 -0.05  0.03      18287.0\n",
       "\n",
       "[4307 rows x 4 columns]"
      ]
     },
     "execution_count": 253,
     "metadata": {},
     "output_type": "execute_result"
    }
   ],
   "source": [
    "rfm_cleaned"
   ]
  },
  {
   "cell_type": "code",
   "execution_count": 233,
   "id": "fa214cae",
   "metadata": {},
   "outputs": [
    {
     "name": "stderr",
     "output_type": "stream",
     "text": [
      "/var/folders/wq/2vxkh_6d4g7dpxkr5q82nxzh0000gn/T/ipykernel_34433/3781405613.py:2: SettingWithCopyWarning: \n",
      "A value is trying to be set on a copy of a slice from a DataFrame.\n",
      "Try using .loc[row_indexer,col_indexer] = value instead\n",
      "\n",
      "See the caveats in the documentation: https://pandas.pydata.org/pandas-docs/stable/user_guide/indexing.html#returning-a-view-versus-a-copy\n",
      "  rfm_cleaned['Customer ID'] = rfm['Customer ID']\n"
     ]
    }
   ],
   "source": [
    "# how do I add back the customer ids?\n",
    "rfm_cleaned['Customer ID'] = rfm['Customer ID']"
   ]
  },
  {
   "cell_type": "code",
   "execution_count": 234,
   "id": "4989cca5",
   "metadata": {},
   "outputs": [
    {
     "data": {
      "text/html": [
       "<div>\n",
       "<style scoped>\n",
       "    .dataframe tbody tr th:only-of-type {\n",
       "        vertical-align: middle;\n",
       "    }\n",
       "\n",
       "    .dataframe tbody tr th {\n",
       "        vertical-align: top;\n",
       "    }\n",
       "\n",
       "    .dataframe thead th {\n",
       "        text-align: right;\n",
       "    }\n",
       "</style>\n",
       "<table border=\"1\" class=\"dataframe\">\n",
       "  <thead>\n",
       "    <tr style=\"text-align: right;\">\n",
       "      <th></th>\n",
       "      <th>0</th>\n",
       "      <th>1</th>\n",
       "      <th>2</th>\n",
       "      <th>Customer ID</th>\n",
       "    </tr>\n",
       "  </thead>\n",
       "  <tbody>\n",
       "    <tr>\n",
       "      <th>0</th>\n",
       "      <td>0.76</td>\n",
       "      <td>-0.30</td>\n",
       "      <td>-0.19</td>\n",
       "      <td>12346.0</td>\n",
       "    </tr>\n",
       "    <tr>\n",
       "      <th>1</th>\n",
       "      <td>-0.91</td>\n",
       "      <td>-0.12</td>\n",
       "      <td>-0.08</td>\n",
       "      <td>12347.0</td>\n",
       "    </tr>\n",
       "    <tr>\n",
       "      <th>2</th>\n",
       "      <td>-0.18</td>\n",
       "      <td>-0.37</td>\n",
       "      <td>-0.20</td>\n",
       "      <td>12348.0</td>\n",
       "    </tr>\n",
       "    <tr>\n",
       "      <th>3</th>\n",
       "      <td>-0.50</td>\n",
       "      <td>0.04</td>\n",
       "      <td>0.07</td>\n",
       "      <td>12349.0</td>\n",
       "    </tr>\n",
       "    <tr>\n",
       "      <th>4</th>\n",
       "      <td>-0.83</td>\n",
       "      <td>-0.36</td>\n",
       "      <td>-0.20</td>\n",
       "      <td>12351.0</td>\n",
       "    </tr>\n",
       "    <tr>\n",
       "      <th>...</th>\n",
       "      <td>...</td>\n",
       "      <td>...</td>\n",
       "      <td>...</td>\n",
       "      <td>...</td>\n",
       "    </tr>\n",
       "    <tr>\n",
       "      <th>4309</th>\n",
       "      <td>-0.76</td>\n",
       "      <td>0.67</td>\n",
       "      <td>-0.16</td>\n",
       "      <td>18283.0</td>\n",
       "    </tr>\n",
       "    <tr>\n",
       "      <th>4310</th>\n",
       "      <td>-0.25</td>\n",
       "      <td>-0.33</td>\n",
       "      <td>-0.18</td>\n",
       "      <td>18284.0</td>\n",
       "    </tr>\n",
       "    <tr>\n",
       "      <th>4311</th>\n",
       "      <td>2.11</td>\n",
       "      <td>-0.41</td>\n",
       "      <td>-0.18</td>\n",
       "      <td>18285.0</td>\n",
       "    </tr>\n",
       "    <tr>\n",
       "      <th>4312</th>\n",
       "      <td>0.21</td>\n",
       "      <td>-0.14</td>\n",
       "      <td>-0.08</td>\n",
       "      <td>18286.0</td>\n",
       "    </tr>\n",
       "    <tr>\n",
       "      <th>4313</th>\n",
       "      <td>-0.76</td>\n",
       "      <td>-0.05</td>\n",
       "      <td>0.03</td>\n",
       "      <td>18287.0</td>\n",
       "    </tr>\n",
       "  </tbody>\n",
       "</table>\n",
       "<p>4307 rows × 4 columns</p>\n",
       "</div>"
      ],
      "text/plain": [
       "         0     1     2  Customer ID\n",
       "0     0.76 -0.30 -0.19      12346.0\n",
       "1    -0.91 -0.12 -0.08      12347.0\n",
       "2    -0.18 -0.37 -0.20      12348.0\n",
       "3    -0.50  0.04  0.07      12349.0\n",
       "4    -0.83 -0.36 -0.20      12351.0\n",
       "...    ...   ...   ...          ...\n",
       "4309 -0.76  0.67 -0.16      18283.0\n",
       "4310 -0.25 -0.33 -0.18      18284.0\n",
       "4311  2.11 -0.41 -0.18      18285.0\n",
       "4312  0.21 -0.14 -0.08      18286.0\n",
       "4313 -0.76 -0.05  0.03      18287.0\n",
       "\n",
       "[4307 rows x 4 columns]"
      ]
     },
     "execution_count": 234,
     "metadata": {},
     "output_type": "execute_result"
    }
   ],
   "source": [
    "rfm_cleaned"
   ]
  },
  {
   "cell_type": "code",
   "execution_count": 195,
   "id": "4b9cc944",
   "metadata": {},
   "outputs": [
    {
     "data": {
      "text/html": [
       "<div>\n",
       "<style scoped>\n",
       "    .dataframe tbody tr th:only-of-type {\n",
       "        vertical-align: middle;\n",
       "    }\n",
       "\n",
       "    .dataframe tbody tr th {\n",
       "        vertical-align: top;\n",
       "    }\n",
       "\n",
       "    .dataframe thead th {\n",
       "        text-align: right;\n",
       "    }\n",
       "</style>\n",
       "<table border=\"1\" class=\"dataframe\">\n",
       "  <thead>\n",
       "    <tr style=\"text-align: right;\">\n",
       "      <th></th>\n",
       "      <th>0</th>\n",
       "      <th>1</th>\n",
       "      <th>2</th>\n",
       "      <th>Customer ID</th>\n",
       "    </tr>\n",
       "  </thead>\n",
       "  <tbody>\n",
       "    <tr>\n",
       "      <th>0</th>\n",
       "      <td>0.76</td>\n",
       "      <td>-0.30</td>\n",
       "      <td>-0.19</td>\n",
       "      <td>12346.0</td>\n",
       "    </tr>\n",
       "    <tr>\n",
       "      <th>1</th>\n",
       "      <td>-0.91</td>\n",
       "      <td>-0.12</td>\n",
       "      <td>-0.08</td>\n",
       "      <td>12347.0</td>\n",
       "    </tr>\n",
       "    <tr>\n",
       "      <th>2</th>\n",
       "      <td>-0.18</td>\n",
       "      <td>-0.37</td>\n",
       "      <td>-0.20</td>\n",
       "      <td>12348.0</td>\n",
       "    </tr>\n",
       "    <tr>\n",
       "      <th>3</th>\n",
       "      <td>-0.50</td>\n",
       "      <td>0.04</td>\n",
       "      <td>0.07</td>\n",
       "      <td>12349.0</td>\n",
       "    </tr>\n",
       "    <tr>\n",
       "      <th>4</th>\n",
       "      <td>-0.83</td>\n",
       "      <td>-0.36</td>\n",
       "      <td>-0.20</td>\n",
       "      <td>12351.0</td>\n",
       "    </tr>\n",
       "    <tr>\n",
       "      <th>...</th>\n",
       "      <td>...</td>\n",
       "      <td>...</td>\n",
       "      <td>...</td>\n",
       "      <td>...</td>\n",
       "    </tr>\n",
       "    <tr>\n",
       "      <th>4309</th>\n",
       "      <td>-0.76</td>\n",
       "      <td>0.67</td>\n",
       "      <td>-0.16</td>\n",
       "      <td>18283.0</td>\n",
       "    </tr>\n",
       "    <tr>\n",
       "      <th>4310</th>\n",
       "      <td>-0.25</td>\n",
       "      <td>-0.33</td>\n",
       "      <td>-0.18</td>\n",
       "      <td>18284.0</td>\n",
       "    </tr>\n",
       "    <tr>\n",
       "      <th>4311</th>\n",
       "      <td>2.11</td>\n",
       "      <td>-0.41</td>\n",
       "      <td>-0.18</td>\n",
       "      <td>18285.0</td>\n",
       "    </tr>\n",
       "    <tr>\n",
       "      <th>4312</th>\n",
       "      <td>0.21</td>\n",
       "      <td>-0.14</td>\n",
       "      <td>-0.08</td>\n",
       "      <td>18286.0</td>\n",
       "    </tr>\n",
       "    <tr>\n",
       "      <th>4313</th>\n",
       "      <td>-0.76</td>\n",
       "      <td>-0.05</td>\n",
       "      <td>0.03</td>\n",
       "      <td>18287.0</td>\n",
       "    </tr>\n",
       "  </tbody>\n",
       "</table>\n",
       "<p>4314 rows × 4 columns</p>\n",
       "</div>"
      ],
      "text/plain": [
       "         0     1     2  Customer ID\n",
       "0     0.76 -0.30 -0.19      12346.0\n",
       "1    -0.91 -0.12 -0.08      12347.0\n",
       "2    -0.18 -0.37 -0.20      12348.0\n",
       "3    -0.50  0.04  0.07      12349.0\n",
       "4    -0.83 -0.36 -0.20      12351.0\n",
       "...    ...   ...   ...          ...\n",
       "4309 -0.76  0.67 -0.16      18283.0\n",
       "4310 -0.25 -0.33 -0.18      18284.0\n",
       "4311  2.11 -0.41 -0.18      18285.0\n",
       "4312  0.21 -0.14 -0.08      18286.0\n",
       "4313 -0.76 -0.05  0.03      18287.0\n",
       "\n",
       "[4314 rows x 4 columns]"
      ]
     },
     "execution_count": 195,
     "metadata": {},
     "output_type": "execute_result"
    }
   ],
   "source": [
    "rfm_ss"
   ]
  },
  {
   "cell_type": "code",
   "execution_count": 196,
   "id": "078d2c10",
   "metadata": {},
   "outputs": [],
   "source": [
    "from sklearn.cluster import KMeans\n",
    "from sklearn.metrics import silhouette_score"
   ]
  },
  {
   "cell_type": "code",
   "execution_count": 208,
   "id": "aac01929",
   "metadata": {},
   "outputs": [],
   "source": [
    "rfm_c = rfm_ss"
   ]
  },
  {
   "cell_type": "code",
   "execution_count": 254,
   "id": "b07169ac",
   "metadata": {},
   "outputs": [],
   "source": [
    "rfm_cleaned = rfm_cleaned.rename(columns={0: 'recency',\n",
    "                        1: 'frequency',\n",
    "                        2: 'monetary',\n",
    "                        'Customer ID':'customer_id'})\n"
   ]
  },
  {
   "cell_type": "code",
   "execution_count": 255,
   "id": "2bd7a1c4",
   "metadata": {},
   "outputs": [
    {
     "data": {
      "text/html": [
       "<div>\n",
       "<style scoped>\n",
       "    .dataframe tbody tr th:only-of-type {\n",
       "        vertical-align: middle;\n",
       "    }\n",
       "\n",
       "    .dataframe tbody tr th {\n",
       "        vertical-align: top;\n",
       "    }\n",
       "\n",
       "    .dataframe thead th {\n",
       "        text-align: right;\n",
       "    }\n",
       "</style>\n",
       "<table border=\"1\" class=\"dataframe\">\n",
       "  <thead>\n",
       "    <tr style=\"text-align: right;\">\n",
       "      <th></th>\n",
       "      <th>recency</th>\n",
       "      <th>frequency</th>\n",
       "      <th>monetary</th>\n",
       "      <th>customer_id</th>\n",
       "    </tr>\n",
       "  </thead>\n",
       "  <tbody>\n",
       "    <tr>\n",
       "      <th>0</th>\n",
       "      <td>0.76</td>\n",
       "      <td>-0.30</td>\n",
       "      <td>-0.19</td>\n",
       "      <td>12346.0</td>\n",
       "    </tr>\n",
       "    <tr>\n",
       "      <th>1</th>\n",
       "      <td>-0.91</td>\n",
       "      <td>-0.12</td>\n",
       "      <td>-0.08</td>\n",
       "      <td>12347.0</td>\n",
       "    </tr>\n",
       "    <tr>\n",
       "      <th>2</th>\n",
       "      <td>-0.18</td>\n",
       "      <td>-0.37</td>\n",
       "      <td>-0.20</td>\n",
       "      <td>12348.0</td>\n",
       "    </tr>\n",
       "    <tr>\n",
       "      <th>3</th>\n",
       "      <td>-0.50</td>\n",
       "      <td>0.04</td>\n",
       "      <td>0.07</td>\n",
       "      <td>12349.0</td>\n",
       "    </tr>\n",
       "    <tr>\n",
       "      <th>4</th>\n",
       "      <td>-0.83</td>\n",
       "      <td>-0.36</td>\n",
       "      <td>-0.20</td>\n",
       "      <td>12351.0</td>\n",
       "    </tr>\n",
       "    <tr>\n",
       "      <th>...</th>\n",
       "      <td>...</td>\n",
       "      <td>...</td>\n",
       "      <td>...</td>\n",
       "      <td>...</td>\n",
       "    </tr>\n",
       "    <tr>\n",
       "      <th>4309</th>\n",
       "      <td>-0.76</td>\n",
       "      <td>0.67</td>\n",
       "      <td>-0.16</td>\n",
       "      <td>18283.0</td>\n",
       "    </tr>\n",
       "    <tr>\n",
       "      <th>4310</th>\n",
       "      <td>-0.25</td>\n",
       "      <td>-0.33</td>\n",
       "      <td>-0.18</td>\n",
       "      <td>18284.0</td>\n",
       "    </tr>\n",
       "    <tr>\n",
       "      <th>4311</th>\n",
       "      <td>2.11</td>\n",
       "      <td>-0.41</td>\n",
       "      <td>-0.18</td>\n",
       "      <td>18285.0</td>\n",
       "    </tr>\n",
       "    <tr>\n",
       "      <th>4312</th>\n",
       "      <td>0.21</td>\n",
       "      <td>-0.14</td>\n",
       "      <td>-0.08</td>\n",
       "      <td>18286.0</td>\n",
       "    </tr>\n",
       "    <tr>\n",
       "      <th>4313</th>\n",
       "      <td>-0.76</td>\n",
       "      <td>-0.05</td>\n",
       "      <td>0.03</td>\n",
       "      <td>18287.0</td>\n",
       "    </tr>\n",
       "  </tbody>\n",
       "</table>\n",
       "<p>4307 rows × 4 columns</p>\n",
       "</div>"
      ],
      "text/plain": [
       "      recency  frequency  monetary  customer_id\n",
       "0        0.76      -0.30     -0.19      12346.0\n",
       "1       -0.91      -0.12     -0.08      12347.0\n",
       "2       -0.18      -0.37     -0.20      12348.0\n",
       "3       -0.50       0.04      0.07      12349.0\n",
       "4       -0.83      -0.36     -0.20      12351.0\n",
       "...       ...        ...       ...          ...\n",
       "4309    -0.76       0.67     -0.16      18283.0\n",
       "4310    -0.25      -0.33     -0.18      18284.0\n",
       "4311     2.11      -0.41     -0.18      18285.0\n",
       "4312     0.21      -0.14     -0.08      18286.0\n",
       "4313    -0.76      -0.05      0.03      18287.0\n",
       "\n",
       "[4307 rows x 4 columns]"
      ]
     },
     "execution_count": 255,
     "metadata": {},
     "output_type": "execute_result"
    }
   ],
   "source": [
    "rfm_cleaned"
   ]
  },
  {
   "cell_type": "code",
   "execution_count": 225,
   "id": "cbaa50c2",
   "metadata": {},
   "outputs": [
    {
     "data": {
      "text/plain": [
       "KMeans(max_iter=50, n_clusters=3)"
      ]
     },
     "execution_count": 225,
     "metadata": {},
     "output_type": "execute_result"
    }
   ],
   "source": [
    "kmeans = KMeans(n_clusters=3, max_iter=50)\n",
    "kmeans.fit(rfm_c)"
   ]
  },
  {
   "cell_type": "code",
   "execution_count": 224,
   "id": "0d584326",
   "metadata": {
    "scrolled": true
   },
   "outputs": [
    {
     "data": {
      "image/png": "[encoded data removed]",
      "text/plain": [
       "<Figure size 640x480 with 1 Axes>"
      ]
     },
     "metadata": {},
     "output_type": "display_data"
    }
   ],
   "source": [
    "labels = kmeans.predict(rfm_c)\n",
    "clusters = np.unique(labels)\n",
    "\n",
    "centers = kmeans.cluster_centers_\n",
    "\n",
    "for cluster in clusters:\n",
    "    row_ix = np.where(labels == cluster)\n",
    "    plt.scatter(rfm_c.to_numpy()[row_ix, 1], rfm_c.to_numpy()[row_ix, 3])\n",
    "    \n",
    "plt.scatter(centers[:, 1], centers[:, 3], s=200, marker='*', c='black')\n",
    "\n",
    "plt.show()"
   ]
  },
  {
   "cell_type": "code",
   "execution_count": 230,
   "id": "5b813a20",
   "metadata": {},
   "outputs": [
    {
     "data": {
      "image/png": "[encoded data removed]",
      "text/plain": [
       "<Figure size 640x480 with 1 Axes>"
      ]
     },
     "metadata": {},
     "output_type": "display_data"
    }
   ],
   "source": [
    "# Predict cluster labels for the input data using KMeans algorithm\n",
    "labels = kmeans.predict(rfm_c)\n",
    "\n",
    "# Extract unique cluster labels from the predicted labels\n",
    "clusters = np.unique(labels)\n",
    "\n",
    "# Calculate the cluster centers using KMeans algorithm\n",
    "centers = kmeans.cluster_centers_\n",
    "\n",
    "# Loop over the unique cluster labels\n",
    "for cluster in clusters:\n",
    "    # Extract the indices of the data points belonging to the current cluster label\n",
    "    row_ix = np.where(labels == cluster)\n",
    "    \n",
    "    # Create a scatter plot of the data points belonging to the current cluster label\n",
    "    plt.scatter(rfm_c.to_numpy()[row_ix, 1], rfm_c.to_numpy()[row_ix, 3], label=f'Cluster {cluster+1}')\n",
    "\n",
    "# Add the cluster centers to the scatter plot\n",
    "plt.scatter(centers[:, 1], centers[:, 3], s=200, marker='*', c='black', label='Cluster Centers')\n",
    "\n",
    "# Add axis labels and title to the plot\n",
    "plt.xlabel('Recency')\n",
    "plt.ylabel('Revenue')\n",
    "plt.title('KMeans Clustering')\n",
    "\n",
    "# Add a legend to the plot\n",
    "plt.legend()\n",
    "\n",
    "# Display the scatter plot\n",
    "plt.show()\n"
   ]
  },
  {
   "cell_type": "code",
   "execution_count": 249,
   "id": "b8602550",
   "metadata": {},
   "outputs": [
    {
     "data": {
      "text/html": [
       "<div>\n",
       "<style scoped>\n",
       "    .dataframe tbody tr th:only-of-type {\n",
       "        vertical-align: middle;\n",
       "    }\n",
       "\n",
       "    .dataframe tbody tr th {\n",
       "        vertical-align: top;\n",
       "    }\n",
       "\n",
       "    .dataframe thead th {\n",
       "        text-align: right;\n",
       "    }\n",
       "</style>\n",
       "<table border=\"1\" class=\"dataframe\">\n",
       "  <thead>\n",
       "    <tr style=\"text-align: right;\">\n",
       "      <th></th>\n",
       "      <th>recency</th>\n",
       "      <th>frequency</th>\n",
       "      <th>monetary</th>\n",
       "      <th>customer_id</th>\n",
       "      <th>cluster</th>\n",
       "    </tr>\n",
       "  </thead>\n",
       "  <tbody>\n",
       "    <tr>\n",
       "      <th>0</th>\n",
       "      <td>0.76</td>\n",
       "      <td>-0.30</td>\n",
       "      <td>-0.19</td>\n",
       "      <td>12346.0</td>\n",
       "      <td>1</td>\n",
       "    </tr>\n",
       "    <tr>\n",
       "      <th>1</th>\n",
       "      <td>-0.91</td>\n",
       "      <td>-0.12</td>\n",
       "      <td>-0.08</td>\n",
       "      <td>12347.0</td>\n",
       "      <td>1</td>\n",
       "    </tr>\n",
       "    <tr>\n",
       "      <th>2</th>\n",
       "      <td>-0.18</td>\n",
       "      <td>-0.37</td>\n",
       "      <td>-0.20</td>\n",
       "      <td>12348.0</td>\n",
       "      <td>1</td>\n",
       "    </tr>\n",
       "    <tr>\n",
       "      <th>3</th>\n",
       "      <td>-0.50</td>\n",
       "      <td>0.04</td>\n",
       "      <td>0.07</td>\n",
       "      <td>12349.0</td>\n",
       "      <td>1</td>\n",
       "    </tr>\n",
       "    <tr>\n",
       "      <th>4</th>\n",
       "      <td>-0.83</td>\n",
       "      <td>-0.36</td>\n",
       "      <td>-0.20</td>\n",
       "      <td>12351.0</td>\n",
       "      <td>1</td>\n",
       "    </tr>\n",
       "    <tr>\n",
       "      <th>...</th>\n",
       "      <td>...</td>\n",
       "      <td>...</td>\n",
       "      <td>...</td>\n",
       "      <td>...</td>\n",
       "      <td>...</td>\n",
       "    </tr>\n",
       "    <tr>\n",
       "      <th>4309</th>\n",
       "      <td>-0.76</td>\n",
       "      <td>0.67</td>\n",
       "      <td>-0.16</td>\n",
       "      <td>18283.0</td>\n",
       "      <td>0</td>\n",
       "    </tr>\n",
       "    <tr>\n",
       "      <th>4310</th>\n",
       "      <td>-0.25</td>\n",
       "      <td>-0.33</td>\n",
       "      <td>-0.18</td>\n",
       "      <td>18284.0</td>\n",
       "      <td>0</td>\n",
       "    </tr>\n",
       "    <tr>\n",
       "      <th>4311</th>\n",
       "      <td>2.11</td>\n",
       "      <td>-0.41</td>\n",
       "      <td>-0.18</td>\n",
       "      <td>18285.0</td>\n",
       "      <td>0</td>\n",
       "    </tr>\n",
       "    <tr>\n",
       "      <th>4312</th>\n",
       "      <td>0.21</td>\n",
       "      <td>-0.14</td>\n",
       "      <td>-0.08</td>\n",
       "      <td>18286.0</td>\n",
       "      <td>0</td>\n",
       "    </tr>\n",
       "    <tr>\n",
       "      <th>4313</th>\n",
       "      <td>-0.76</td>\n",
       "      <td>-0.05</td>\n",
       "      <td>0.03</td>\n",
       "      <td>18287.0</td>\n",
       "      <td>0</td>\n",
       "    </tr>\n",
       "  </tbody>\n",
       "</table>\n",
       "<p>4307 rows × 5 columns</p>\n",
       "</div>"
      ],
      "text/plain": [
       "      recency  frequency  monetary  customer_id  cluster\n",
       "0        0.76      -0.30     -0.19      12346.0        1\n",
       "1       -0.91      -0.12     -0.08      12347.0        1\n",
       "2       -0.18      -0.37     -0.20      12348.0        1\n",
       "3       -0.50       0.04      0.07      12349.0        1\n",
       "4       -0.83      -0.36     -0.20      12351.0        1\n",
       "...       ...        ...       ...          ...      ...\n",
       "4309    -0.76       0.67     -0.16      18283.0        0\n",
       "4310    -0.25      -0.33     -0.18      18284.0        0\n",
       "4311     2.11      -0.41     -0.18      18285.0        0\n",
       "4312     0.21      -0.14     -0.08      18286.0        0\n",
       "4313    -0.76      -0.05      0.03      18287.0        0\n",
       "\n",
       "[4307 rows x 5 columns]"
      ]
     },
     "execution_count": 249,
     "metadata": {},
     "output_type": "execute_result"
    }
   ],
   "source": [
    "rfm_cleaned"
   ]
  },
  {
   "cell_type": "code",
   "execution_count": 259,
   "id": "86a4150a",
   "metadata": {},
   "outputs": [
    {
     "data": {
      "text/html": [
       "<div>\n",
       "<style scoped>\n",
       "    .dataframe tbody tr th:only-of-type {\n",
       "        vertical-align: middle;\n",
       "    }\n",
       "\n",
       "    .dataframe tbody tr th {\n",
       "        vertical-align: top;\n",
       "    }\n",
       "\n",
       "    .dataframe thead th {\n",
       "        text-align: right;\n",
       "    }\n",
       "</style>\n",
       "<table border=\"1\" class=\"dataframe\">\n",
       "  <thead>\n",
       "    <tr style=\"text-align: right;\">\n",
       "      <th></th>\n",
       "      <th>Customer ID</th>\n",
       "      <th>Recency</th>\n",
       "      <th>Frequency</th>\n",
       "      <th>Monetary</th>\n",
       "    </tr>\n",
       "  </thead>\n",
       "  <tbody>\n",
       "    <tr>\n",
       "      <th>0</th>\n",
       "      <td>12346.0</td>\n",
       "      <td>164</td>\n",
       "      <td>33</td>\n",
       "      <td>372.86</td>\n",
       "    </tr>\n",
       "    <tr>\n",
       "      <th>1</th>\n",
       "      <td>12347.0</td>\n",
       "      <td>2</td>\n",
       "      <td>71</td>\n",
       "      <td>1323.32</td>\n",
       "    </tr>\n",
       "    <tr>\n",
       "      <th>2</th>\n",
       "      <td>12348.0</td>\n",
       "      <td>73</td>\n",
       "      <td>20</td>\n",
       "      <td>222.16</td>\n",
       "    </tr>\n",
       "    <tr>\n",
       "      <th>3</th>\n",
       "      <td>12349.0</td>\n",
       "      <td>42</td>\n",
       "      <td>102</td>\n",
       "      <td>2671.14</td>\n",
       "    </tr>\n",
       "    <tr>\n",
       "      <th>4</th>\n",
       "      <td>12351.0</td>\n",
       "      <td>10</td>\n",
       "      <td>21</td>\n",
       "      <td>300.93</td>\n",
       "    </tr>\n",
       "    <tr>\n",
       "      <th>...</th>\n",
       "      <td>...</td>\n",
       "      <td>...</td>\n",
       "      <td>...</td>\n",
       "      <td>...</td>\n",
       "    </tr>\n",
       "    <tr>\n",
       "      <th>4309</th>\n",
       "      <td>18283.0</td>\n",
       "      <td>17</td>\n",
       "      <td>230</td>\n",
       "      <td>641.77</td>\n",
       "    </tr>\n",
       "    <tr>\n",
       "      <th>4310</th>\n",
       "      <td>18284.0</td>\n",
       "      <td>66</td>\n",
       "      <td>28</td>\n",
       "      <td>461.68</td>\n",
       "    </tr>\n",
       "    <tr>\n",
       "      <th>4311</th>\n",
       "      <td>18285.0</td>\n",
       "      <td>295</td>\n",
       "      <td>12</td>\n",
       "      <td>427.00</td>\n",
       "    </tr>\n",
       "    <tr>\n",
       "      <th>4312</th>\n",
       "      <td>18286.0</td>\n",
       "      <td>111</td>\n",
       "      <td>67</td>\n",
       "      <td>1296.43</td>\n",
       "    </tr>\n",
       "    <tr>\n",
       "      <th>4313</th>\n",
       "      <td>18287.0</td>\n",
       "      <td>17</td>\n",
       "      <td>85</td>\n",
       "      <td>2345.71</td>\n",
       "    </tr>\n",
       "  </tbody>\n",
       "</table>\n",
       "<p>4314 rows × 4 columns</p>\n",
       "</div>"
      ],
      "text/plain": [
       "      Customer ID  Recency  Frequency  Monetary\n",
       "0         12346.0      164         33    372.86\n",
       "1         12347.0        2         71   1323.32\n",
       "2         12348.0       73         20    222.16\n",
       "3         12349.0       42        102   2671.14\n",
       "4         12351.0       10         21    300.93\n",
       "...           ...      ...        ...       ...\n",
       "4309      18283.0       17        230    641.77\n",
       "4310      18284.0       66         28    461.68\n",
       "4311      18285.0      295         12    427.00\n",
       "4312      18286.0      111         67   1296.43\n",
       "4313      18287.0       17         85   2345.71\n",
       "\n",
       "[4314 rows x 4 columns]"
      ]
     },
     "execution_count": 259,
     "metadata": {},
     "output_type": "execute_result"
    }
   ],
   "source": [
    "rfm"
   ]
  },
  {
   "cell_type": "code",
   "execution_count": 261,
   "id": "e662b06e",
   "metadata": {},
   "outputs": [
    {
     "ename": "KeyError",
     "evalue": "'Frequency'",
     "output_type": "error",
     "traceback": [
      "\u001b[0;31m---------------------------------------------------------------------------\u001b[0m",
      "\u001b[0;31mKeyError\u001b[0m                                  Traceback (most recent call last)",
      "\u001b[0;32m~/opt/anaconda3/lib/python3.9/site-packages/pandas/core/indexes/base.py\u001b[0m in \u001b[0;36mget_loc\u001b[0;34m(self, key, method, tolerance)\u001b[0m\n\u001b[1;32m   3628\u001b[0m             \u001b[0;32mtry\u001b[0m\u001b[0;34m:\u001b[0m\u001b[0;34m\u001b[0m\u001b[0;34m\u001b[0m\u001b[0m\n\u001b[0;32m-> 3629\u001b[0;31m                 \u001b[0;32mreturn\u001b[0m \u001b[0mself\u001b[0m\u001b[0;34m.\u001b[0m\u001b[0m_engine\u001b[0m\u001b[0;34m.\u001b[0m\u001b[0mget_loc\u001b[0m\u001b[0;34m(\u001b[0m\u001b[0mcasted_key\u001b[0m\u001b[0;34m)\u001b[0m\u001b[0;34m\u001b[0m\u001b[0;34m\u001b[0m\u001b[0m\n\u001b[0m\u001b[1;32m   3630\u001b[0m             \u001b[0;32mexcept\u001b[0m \u001b[0mKeyError\u001b[0m \u001b[0;32mas\u001b[0m \u001b[0merr\u001b[0m\u001b[0;34m:\u001b[0m\u001b[0;34m\u001b[0m\u001b[0;34m\u001b[0m\u001b[0m\n",
      "\u001b[0;32m~/opt/anaconda3/lib/python3.9/site-packages/pandas/_libs/index.pyx\u001b[0m in \u001b[0;36mpandas._libs.index.IndexEngine.get_loc\u001b[0;34m()\u001b[0m\n",
      "\u001b[0;32m~/opt/anaconda3/lib/python3.9/site-packages/pandas/_libs/index.pyx\u001b[0m in \u001b[0;36mpandas._libs.index.IndexEngine.get_loc\u001b[0;34m()\u001b[0m\n",
      "\u001b[0;32mpandas/_libs/hashtable_class_helper.pxi\u001b[0m in \u001b[0;36mpandas._libs.hashtable.PyObjectHashTable.get_item\u001b[0;34m()\u001b[0m\n",
      "\u001b[0;32mpandas/_libs/hashtable_class_helper.pxi\u001b[0m in \u001b[0;36mpandas._libs.hashtable.PyObjectHashTable.get_item\u001b[0;34m()\u001b[0m\n",
      "\u001b[0;31mKeyError\u001b[0m: 'Frequency'",
      "\nThe above exception was the direct cause of the following exception:\n",
      "\u001b[0;31mKeyError\u001b[0m                                  Traceback (most recent call last)",
      "\u001b[0;32m/var/folders/wq/2vxkh_6d4g7dpxkr5q82nxzh0000gn/T/ipykernel_34433/2077766252.py\u001b[0m in \u001b[0;36m<module>\u001b[0;34m\u001b[0m\n\u001b[1;32m     10\u001b[0m \u001b[0max\u001b[0m \u001b[0;34m=\u001b[0m \u001b[0mfig\u001b[0m\u001b[0;34m.\u001b[0m\u001b[0madd_subplot\u001b[0m\u001b[0;34m(\u001b[0m\u001b[0;36m111\u001b[0m\u001b[0;34m,\u001b[0m \u001b[0mprojection\u001b[0m\u001b[0;34m=\u001b[0m\u001b[0;34m'3d'\u001b[0m\u001b[0;34m)\u001b[0m\u001b[0;34m\u001b[0m\u001b[0;34m\u001b[0m\u001b[0m\n\u001b[1;32m     11\u001b[0m \u001b[0;34m\u001b[0m\u001b[0m\n\u001b[0;32m---> 12\u001b[0;31m \u001b[0max\u001b[0m\u001b[0;34m.\u001b[0m\u001b[0mscatter\u001b[0m\u001b[0;34m(\u001b[0m\u001b[0mrfm\u001b[0m\u001b[0;34m[\u001b[0m\u001b[0;34m'Recency'\u001b[0m\u001b[0;34m]\u001b[0m\u001b[0;34m,\u001b[0m \u001b[0mrfm_cleaned\u001b[0m\u001b[0;34m[\u001b[0m\u001b[0;34m'Frequency'\u001b[0m\u001b[0;34m]\u001b[0m\u001b[0;34m,\u001b[0m \u001b[0mrfm_cleaned\u001b[0m\u001b[0;34m[\u001b[0m\u001b[0;34m'Monetary'\u001b[0m\u001b[0;34m]\u001b[0m\u001b[0;34m,\u001b[0m \u001b[0mc\u001b[0m\u001b[0;34m=\u001b[0m\u001b[0mlabels\u001b[0m\u001b[0;34m,\u001b[0m \u001b[0ms\u001b[0m\u001b[0;34m=\u001b[0m\u001b[0;36m60\u001b[0m\u001b[0;34m)\u001b[0m\u001b[0;34m\u001b[0m\u001b[0;34m\u001b[0m\u001b[0m\n\u001b[0m\u001b[1;32m     13\u001b[0m \u001b[0;34m\u001b[0m\u001b[0m\n\u001b[1;32m     14\u001b[0m \u001b[0;31m# Add axis labels and a title\u001b[0m\u001b[0;34m\u001b[0m\u001b[0;34m\u001b[0m\u001b[0m\n",
      "\u001b[0;32m~/opt/anaconda3/lib/python3.9/site-packages/pandas/core/frame.py\u001b[0m in \u001b[0;36m__getitem__\u001b[0;34m(self, key)\u001b[0m\n\u001b[1;32m   3503\u001b[0m             \u001b[0;32mif\u001b[0m \u001b[0mself\u001b[0m\u001b[0;34m.\u001b[0m\u001b[0mcolumns\u001b[0m\u001b[0;34m.\u001b[0m\u001b[0mnlevels\u001b[0m \u001b[0;34m>\u001b[0m \u001b[0;36m1\u001b[0m\u001b[0;34m:\u001b[0m\u001b[0;34m\u001b[0m\u001b[0;34m\u001b[0m\u001b[0m\n\u001b[1;32m   3504\u001b[0m                 \u001b[0;32mreturn\u001b[0m \u001b[0mself\u001b[0m\u001b[0;34m.\u001b[0m\u001b[0m_getitem_multilevel\u001b[0m\u001b[0;34m(\u001b[0m\u001b[0mkey\u001b[0m\u001b[0;34m)\u001b[0m\u001b[0;34m\u001b[0m\u001b[0;34m\u001b[0m\u001b[0m\n\u001b[0;32m-> 3505\u001b[0;31m             \u001b[0mindexer\u001b[0m \u001b[0;34m=\u001b[0m \u001b[0mself\u001b[0m\u001b[0;34m.\u001b[0m\u001b[0mcolumns\u001b[0m\u001b[0;34m.\u001b[0m\u001b[0mget_loc\u001b[0m\u001b[0;34m(\u001b[0m\u001b[0mkey\u001b[0m\u001b[0;34m)\u001b[0m\u001b[0;34m\u001b[0m\u001b[0;34m\u001b[0m\u001b[0m\n\u001b[0m\u001b[1;32m   3506\u001b[0m             \u001b[0;32mif\u001b[0m \u001b[0mis_integer\u001b[0m\u001b[0;34m(\u001b[0m\u001b[0mindexer\u001b[0m\u001b[0;34m)\u001b[0m\u001b[0;34m:\u001b[0m\u001b[0;34m\u001b[0m\u001b[0;34m\u001b[0m\u001b[0m\n\u001b[1;32m   3507\u001b[0m                 \u001b[0mindexer\u001b[0m \u001b[0;34m=\u001b[0m \u001b[0;34m[\u001b[0m\u001b[0mindexer\u001b[0m\u001b[0;34m]\u001b[0m\u001b[0;34m\u001b[0m\u001b[0;34m\u001b[0m\u001b[0m\n",
      "\u001b[0;32m~/opt/anaconda3/lib/python3.9/site-packages/pandas/core/indexes/base.py\u001b[0m in \u001b[0;36mget_loc\u001b[0;34m(self, key, method, tolerance)\u001b[0m\n\u001b[1;32m   3629\u001b[0m                 \u001b[0;32mreturn\u001b[0m \u001b[0mself\u001b[0m\u001b[0;34m.\u001b[0m\u001b[0m_engine\u001b[0m\u001b[0;34m.\u001b[0m\u001b[0mget_loc\u001b[0m\u001b[0;34m(\u001b[0m\u001b[0mcasted_key\u001b[0m\u001b[0;34m)\u001b[0m\u001b[0;34m\u001b[0m\u001b[0;34m\u001b[0m\u001b[0m\n\u001b[1;32m   3630\u001b[0m             \u001b[0;32mexcept\u001b[0m \u001b[0mKeyError\u001b[0m \u001b[0;32mas\u001b[0m \u001b[0merr\u001b[0m\u001b[0;34m:\u001b[0m\u001b[0;34m\u001b[0m\u001b[0;34m\u001b[0m\u001b[0m\n\u001b[0;32m-> 3631\u001b[0;31m                 \u001b[0;32mraise\u001b[0m \u001b[0mKeyError\u001b[0m\u001b[0;34m(\u001b[0m\u001b[0mkey\u001b[0m\u001b[0;34m)\u001b[0m \u001b[0;32mfrom\u001b[0m \u001b[0merr\u001b[0m\u001b[0;34m\u001b[0m\u001b[0;34m\u001b[0m\u001b[0m\n\u001b[0m\u001b[1;32m   3632\u001b[0m             \u001b[0;32mexcept\u001b[0m \u001b[0mTypeError\u001b[0m\u001b[0;34m:\u001b[0m\u001b[0;34m\u001b[0m\u001b[0;34m\u001b[0m\u001b[0m\n\u001b[1;32m   3633\u001b[0m                 \u001b[0;31m# If we have a listlike key, _check_indexing_error will raise\u001b[0m\u001b[0;34m\u001b[0m\u001b[0;34m\u001b[0m\u001b[0m\n",
      "\u001b[0;31mKeyError\u001b[0m: 'Frequency'"
     ]
    },
    {
     "data": {
      "image/png": "[encoded data removed]",
      "text/plain": [
       "<Figure size 1000x800 with 1 Axes>"
      ]
     },
     "metadata": {},
     "output_type": "display_data"
    }
   ],
   "source": [
    "\n",
    "\n",
    "# Cluster the data\n",
    "kmeans = KMeans(n_clusters=3, max_iter=50)\n",
    "kmeans.fit(rfm)\n",
    "\n",
    "# Assign cluster labels to each data point\n",
    "labels = kmeans.labels_\n",
    "\n",
    "# Create a 3D scatter plot\n",
    "fig = plt.figure(figsize=(10, 8))\n",
    "ax = fig.add_subplot(111, projection='3d')\n",
    "\n",
    "ax.scatter(rfm['Recency'], rfm_cleaned['Frequency'], rfm_cleaned['Monetary'], c=labels, s=60)\n",
    "\n",
    "# Add axis labels and a title\n",
    "ax.set_xlabel('Recency')\n",
    "ax.set_ylabel('Frequency')\n",
    "ax.set_zlabel('Monetary')\n",
    "ax.set_title('KMeans Clustering of RFM Data')\n",
    "\n",
    "plt.show()\n"
   ]
  },
  {
   "cell_type": "code",
   "execution_count": 241,
   "id": "f5d918e2",
   "metadata": {},
   "outputs": [
    {
     "data": {
      "image/png": "[encoded data removed]",
      "text/plain": [
       "<Figure size 640x480 with 1 Axes>"
      ]
     },
     "metadata": {},
     "output_type": "display_data"
    }
   ],
   "source": [
    "import seaborn as sns\n",
    "\n",
    "# Add cluster labels to the RFM data\n",
    "rfm_cleaned['cluster'] = labels\n",
    "\n",
    "# Create a box plot of RFM values for each cluster\n",
    "sns.boxplot(x='cluster', y='recency', data=rfm_cleaned)\n",
    "sns.boxplot(x='cluster', y='frequency', data=rfm_cleaned)\n",
    "sns.boxplot(x='cluster', y='monetary', data=rfm_cleaned)\n",
    "\n",
    "# Add titles and axis labels\n",
    "plt.suptitle('KMeans Clustering of RFM Data')\n",
    "plt.title('Box Plot of RFM Values for Each Cluster')\n",
    "plt.xlabel('Cluster')\n",
    "plt.ylabel('RFM Value')\n",
    "\n",
    "plt.show()"
   ]
  },
  {
   "cell_type": "code",
   "execution_count": 242,
   "id": "ab2effa7",
   "metadata": {},
   "outputs": [
    {
     "data": {
      "image/png": "[encoded data removed]",
      "text/plain": [
       "<Figure size 640x480 with 2 Axes>"
      ]
     },
     "metadata": {},
     "output_type": "display_data"
    }
   ],
   "source": [
    "import numpy as np\n",
    "\n",
    "# Calculate the mean RFM values for each cluster\n",
    "rfm_means = rfm_cleaned.groupby('cluster').mean().reset_index()\n",
    "\n",
    "# Create a heatmap of the mean RFM values\n",
    "sns.heatmap(rfm_means[['recency', 'frequency', 'monetary']].T, cmap='YlGnBu', annot=True)\n",
    "\n",
    "# Add a title\n",
    "plt.title('KMeans Clustering of RFM Data: Average RFM Values for Each Cluster')\n",
    "\n",
    "plt.show()\n"
   ]
  },
  {
   "cell_type": "code",
   "execution_count": 217,
   "id": "34b88056",
   "metadata": {},
   "outputs": [
    {
     "name": "stdout",
     "output_type": "stream",
     "text": [
      "Training a K-Means model with 2 clusters! \n",
      "\n",
      "Training a K-Means model with 3 clusters! \n",
      "\n",
      "Training a K-Means model with 4 clusters! \n",
      "\n",
      "Training a K-Means model with 5 clusters! \n",
      "\n",
      "Training a K-Means model with 6 clusters! \n",
      "\n",
      "Training a K-Means model with 7 clusters! \n",
      "\n",
      "Training a K-Means model with 8 clusters! \n",
      "\n"
     ]
    },
    {
     "data": {
      "text/plain": [
       "Text(0.5, 1.0, 'Elbow Method showing the optimal k')"
      ]
     },
     "execution_count": 217,
     "metadata": {},
     "output_type": "execute_result"
    },
    {
     "data": {
      "image/png": "[encoded data removed]",
      "text/plain": [
       "<Figure size 1600x800 with 1 Axes>"
      ]
     },
     "metadata": {},
     "output_type": "display_data"
    }
   ],
   "source": [
    "K = range(2, 9)\n",
    "inertia = []\n",
    "\n",
    "for k in K:\n",
    "    print(\"Training a K-Means model with {} clusters! \".format(k))\n",
    "    print()\n",
    "    kmeans = KMeans(n_clusters=k,\n",
    "                    random_state=1234)\n",
    "    kmeans.fit(rfm_c)\n",
    "    inertia.append(kmeans.inertia_)\n",
    "\n",
    "plt.figure(figsize=(16,8))\n",
    "plt.plot(K, inertia, 'bx-')\n",
    "plt.xlabel('k')\n",
    "plt.ylabel('inertia')\n",
    "plt.xticks(np.arange(min(K), max(K)+1, 1.0))\n",
    "plt.title('Elbow Method showing the optimal k')"
   ]
  },
  {
   "cell_type": "code",
   "execution_count": null,
   "id": "22004e70",
   "metadata": {},
   "outputs": [],
   "source": []
  }
 ],
 "metadata": {
  "kernelspec": {
   "display_name": "Python 3 (ipykernel)",
   "language": "python",
   "name": "python3"
  },
  "language_info": {
   "codemirror_mode": {
    "name": "ipython",
    "version": 3
   },
   "file_extension": ".py",
   "mimetype": "text/x-python",
   "name": "python",
   "nbconvert_exporter": "python",
   "pygments_lexer": "ipython3",
   "version": "3.9.13"
  }
 },
 "nbformat": 4,
 "nbformat_minor": 5
}
