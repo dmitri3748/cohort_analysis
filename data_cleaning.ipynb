{
 "cells": [
  {
   "cell_type": "code",
   "execution_count": 1,
   "id": "27d8c4fa",
   "metadata": {},
   "outputs": [],
   "source": [
    "import pandas as pd"
   ]
  },
  {
   "cell_type": "markdown",
   "id": "86ad290c",
   "metadata": {},
   "source": [
    "# Read files"
   ]
  },
  {
   "cell_type": "code",
   "execution_count": 2,
   "id": "d8ad5b03",
   "metadata": {},
   "outputs": [],
   "source": [
    "df_0910 = pd.read_csv(\"0910.csv\", on_bad_lines = 'skip', sep = ';')"
   ]
  },
  {
   "cell_type": "code",
   "execution_count": 3,
   "id": "91d48809",
   "metadata": {},
   "outputs": [],
   "source": [
    "df_1011 = pd.read_csv(\"1011.csv\", on_bad_lines = 'skip', sep = ';')"
   ]
  },
  {
   "cell_type": "code",
   "execution_count": null,
   "id": "5d60882f",
   "metadata": {},
   "outputs": [],
   "source": [
    "df_0910"
   ]
  },
  {
   "cell_type": "code",
   "execution_count": null,
   "id": "b21a94ba",
   "metadata": {},
   "outputs": [],
   "source": [
    "df_1011"
   ]
  },
  {
   "cell_type": "markdown",
   "id": "5c964524",
   "metadata": {},
   "source": [
    "# Contanate files"
   ]
  },
  {
   "cell_type": "code",
   "execution_count": 4,
   "id": "de72ca7e",
   "metadata": {},
   "outputs": [],
   "source": [
    "frames = [df_0910, df_1011]"
   ]
  },
  {
   "cell_type": "code",
   "execution_count": 5,
   "id": "117277d3",
   "metadata": {},
   "outputs": [],
   "source": [
    "df = pd.concat(frames)"
   ]
  },
  {
   "cell_type": "code",
   "execution_count": null,
   "id": "e5427453",
   "metadata": {},
   "outputs": [],
   "source": [
    "df"
   ]
  },
  {
   "cell_type": "markdown",
   "id": "a647384f",
   "metadata": {},
   "source": [
    "# Familiarisation with the data"
   ]
  },
  {
   "cell_type": "code",
   "execution_count": null,
   "id": "5ddac426",
   "metadata": {},
   "outputs": [],
   "source": [
    "df.info"
   ]
  },
  {
   "cell_type": "markdown",
   "id": "b066c64e",
   "metadata": {},
   "source": [
    "### How many orders are there?"
   ]
  },
  {
   "cell_type": "code",
   "execution_count": null,
   "id": "694e3e13",
   "metadata": {},
   "outputs": [],
   "source": [
    "df.Invoice.nunique()"
   ]
  },
  {
   "cell_type": "markdown",
   "id": "0d500085",
   "metadata": {},
   "source": [
    "### What is the average invoice amount/ basket size?"
   ]
  },
  {
   "cell_type": "code",
   "execution_count": null,
   "id": "ca7620b2",
   "metadata": {},
   "outputs": [],
   "source": [
    "# To get this, grouping by invoice would be needed, I guess.\n",
    "# Group by invoice and take the sum of the products of quantity and price."
   ]
  },
  {
   "cell_type": "markdown",
   "id": "c2e32db2",
   "metadata": {},
   "source": [
    "### Which customer has the most invoices?"
   ]
  },
  {
   "cell_type": "code",
   "execution_count": null,
   "id": "39b7bd98",
   "metadata": {},
   "outputs": [],
   "source": [
    "# The other way around: group by customer and count the invoices"
   ]
  },
  {
   "cell_type": "markdown",
   "id": "9fc59b73",
   "metadata": {},
   "source": [
    "### How many customers do we have?"
   ]
  },
  {
   "cell_type": "code",
   "execution_count": null,
   "id": "bf3e9d56",
   "metadata": {},
   "outputs": [],
   "source": [
    "df['Customer ID'].nunique()"
   ]
  },
  {
   "cell_type": "markdown",
   "id": "814b1229",
   "metadata": {},
   "source": [
    "### How many countries?"
   ]
  },
  {
   "cell_type": "code",
   "execution_count": null,
   "id": "5067a7ed",
   "metadata": {},
   "outputs": [],
   "source": [
    "df['Country'].nunique()"
   ]
  },
  {
   "cell_type": "markdown",
   "id": "69919ee5",
   "metadata": {},
   "source": [
    "### How many customers per country?"
   ]
  },
  {
   "cell_type": "code",
   "execution_count": null,
   "id": "e1aa39ee",
   "metadata": {},
   "outputs": [],
   "source": [
    "# group by country and aggregate by customers count function"
   ]
  },
  {
   "cell_type": "markdown",
   "id": "96a99ed4",
   "metadata": {},
   "source": [
    "### How can I check that customers id are all correct? \n",
    "*check the datatype and convert to integer, if needed*\n"
   ]
  },
  {
   "cell_type": "markdown",
   "id": "751d05ee",
   "metadata": {},
   "source": [
    "### Can Stock Code be eliminated?\n",
    "*I guess yes*"
   ]
  },
  {
   "cell_type": "markdown",
   "id": "21430428",
   "metadata": {},
   "source": [
    "### How to visualise the findings from above best?\n"
   ]
  },
  {
   "cell_type": "markdown",
   "id": "7777064a",
   "metadata": {},
   "source": [
    "# Data Cleaning"
   ]
  },
  {
   "cell_type": "markdown",
   "id": "bb38c91f",
   "metadata": {},
   "source": [
    "### Renaming columns"
   ]
  },
  {
   "cell_type": "code",
   "execution_count": 7,
   "id": "08e81bc9",
   "metadata": {},
   "outputs": [
    {
     "data": {
      "text/plain": [
       "Index(['Invoice', 'StockCode', 'Description', 'Quantity', 'InvoiceDate',\n",
       "       'Price', 'Customer ID', 'Country'],\n",
       "      dtype='object')"
      ]
     },
     "execution_count": 7,
     "metadata": {},
     "output_type": "execute_result"
    }
   ],
   "source": [
    "df.columns"
   ]
  },
  {
   "cell_type": "code",
   "execution_count": 8,
   "id": "8ed5d367",
   "metadata": {},
   "outputs": [],
   "source": [
    "# lowercase all column names\n",
    "df.columns = df.columns.str.lower()"
   ]
  },
  {
   "cell_type": "code",
   "execution_count": 9,
   "id": "03524a67",
   "metadata": {},
   "outputs": [],
   "source": [
    "# replace spaces in column names with underscores\n",
    "df.columns = df.columns.str.replace(\" \", \"_\")"
   ]
  },
  {
   "cell_type": "code",
   "execution_count": 10,
   "id": "adc6ede8",
   "metadata": {},
   "outputs": [],
   "source": [
    "# remove any leading/trailing whitespace from column names\n",
    "df.columns = df.columns.str.strip()"
   ]
  },
  {
   "cell_type": "code",
   "execution_count": 11,
   "id": "0e7a88b5",
   "metadata": {},
   "outputs": [
    {
     "data": {
      "text/plain": [
       "Index(['invoice', 'stockcode', 'description', 'quantity', 'invoicedate',\n",
       "       'price', 'customer_id', 'country'],\n",
       "      dtype='object')"
      ]
     },
     "execution_count": 11,
     "metadata": {},
     "output_type": "execute_result"
    }
   ],
   "source": [
    "df.columns"
   ]
  },
  {
   "cell_type": "markdown",
   "id": "a395c777",
   "metadata": {},
   "source": [
    "### Converting datatypes"
   ]
  },
  {
   "cell_type": "code",
   "execution_count": 13,
   "id": "ac1fffd5",
   "metadata": {},
   "outputs": [
    {
     "data": {
      "text/plain": [
       "invoice         object\n",
       "stockcode       object\n",
       "description     object\n",
       "quantity         int64\n",
       "invoicedate     object\n",
       "price           object\n",
       "customer_id    float64\n",
       "country         object\n",
       "dtype: object"
      ]
     },
     "execution_count": 13,
     "metadata": {},
     "output_type": "execute_result"
    }
   ],
   "source": [
    "# check datatypes of all columns\n",
    "df.dtypes"
   ]
  },
  {
   "cell_type": "code",
   "execution_count": 19,
   "id": "be39f628",
   "metadata": {},
   "outputs": [],
   "source": [
    "# invoice is an object, altough at first glace it should be an integer. so, lets find if there are invoices that start with a letter\n",
    "alphabet_pattern = r'^[a-zA-Z].*'\n",
    "alphabet_values = df[\"invoice\"][df[\"invoice\"].str.match(alphabet_pattern)]"
   ]
  },
  {
   "cell_type": "code",
   "execution_count": 33,
   "id": "3b97bc59",
   "metadata": {},
   "outputs": [
    {
     "data": {
      "text/plain": [
       "19500"
      ]
     },
     "execution_count": 33,
     "metadata": {},
     "output_type": "execute_result"
    }
   ],
   "source": [
    "alphabet_values.count() # there are 19,500 rows that start with a letter"
   ]
  },
  {
   "cell_type": "code",
   "execution_count": 32,
   "id": "b79f62c5",
   "metadata": {},
   "outputs": [
    {
     "data": {
      "text/plain": [
       "8298"
      ]
     },
     "execution_count": 32,
     "metadata": {},
     "output_type": "execute_result"
    }
   ],
   "source": [
    "alphabet_values.nunique() # out of the 19,5k almost the half is unique "
   ]
  },
  {
   "cell_type": "code",
   "execution_count": null,
   "id": "f73e1075",
   "metadata": {},
   "outputs": [],
   "source": [
    "# now I could "
   ]
  },
  {
   "cell_type": "code",
   "execution_count": 12,
   "id": "4ebc4ee1",
   "metadata": {},
   "outputs": [],
   "source": [
    "# remove any leading/trailing whitespace from values in each column\n",
    "df = df.apply(lambda x: x.str.strip() if x.dtype == \"object\" else x)"
   ]
  },
  {
   "cell_type": "code",
   "execution_count": 14,
   "id": "29b8db23",
   "metadata": {},
   "outputs": [],
   "source": [
    "# convert price to float and replace comma with dot\n",
    "df['price'] = df['price'].str.replace(',', '.').astype(float)"
   ]
  },
  {
   "cell_type": "code",
   "execution_count": 15,
   "id": "d1970f17",
   "metadata": {},
   "outputs": [],
   "source": [
    "# convert invoicedate to datetime format\n",
    "df[\"invoicedate\"] = pd.to_datetime(df[\"invoicedate\"], format=\"%m/%d/%y %H:%M\")"
   ]
  },
  {
   "cell_type": "code",
   "execution_count": 16,
   "id": "d4b37c30",
   "metadata": {},
   "outputs": [
    {
     "data": {
      "text/plain": [
       "invoice                object\n",
       "stockcode              object\n",
       "description            object\n",
       "quantity                int64\n",
       "invoicedate    datetime64[ns]\n",
       "price                 float64\n",
       "customer_id           float64\n",
       "country                object\n",
       "dtype: object"
      ]
     },
     "execution_count": 16,
     "metadata": {},
     "output_type": "execute_result"
    }
   ],
   "source": [
    "df.dtypes"
   ]
  },
  {
   "cell_type": "code",
   "execution_count": 6,
   "id": "8ca65f87",
   "metadata": {},
   "outputs": [
    {
     "data": {
      "text/plain": [
       "(1067371, 8)"
      ]
     },
     "execution_count": 6,
     "metadata": {},
     "output_type": "execute_result"
    }
   ],
   "source": [
    "df.shape"
   ]
  },
  {
   "cell_type": "code",
   "execution_count": null,
   "id": "a1e308ed",
   "metadata": {},
   "outputs": [],
   "source": [
    "# remove any rows with negative or zero quantity\n",
    "df = df[df[\"quantity\"] > 0]"
   ]
  },
  {
   "cell_type": "code",
   "execution_count": null,
   "id": "525ee729",
   "metadata": {},
   "outputs": [],
   "source": [
    "# remove any rows with negative or zero price\n",
    "df = df[df[\"price\"] > 0]"
   ]
  },
  {
   "cell_type": "code",
   "execution_count": null,
   "id": "a2d8742d",
   "metadata": {},
   "outputs": [],
   "source": [
    "# remove any rows with missing values\n",
    "df.dropna(inplace=True)"
   ]
  },
  {
   "cell_type": "code",
   "execution_count": null,
   "id": "49fccd6e",
   "metadata": {},
   "outputs": [],
   "source": [
    "# drop duplicates\n",
    "df.drop_duplicates(inplace=True)"
   ]
  },
  {
   "cell_type": "code",
   "execution_count": null,
   "id": "4d3021f1",
   "metadata": {},
   "outputs": [],
   "source": [
    "df.shape"
   ]
  },
  {
   "cell_type": "code",
   "execution_count": null,
   "id": "45f0c543",
   "metadata": {},
   "outputs": [],
   "source": [
    "# reset the index\n",
    "df.reset_index(drop=True, inplace=True)"
   ]
  }
 ],
 "metadata": {
  "kernelspec": {
   "display_name": "Python 3 (ipykernel)",
   "language": "python",
   "name": "python3"
  },
  "language_info": {
   "codemirror_mode": {
    "name": "ipython",
    "version": 3
   },
   "file_extension": ".py",
   "mimetype": "text/x-python",
   "name": "python",
   "nbconvert_exporter": "python",
   "pygments_lexer": "ipython3",
   "version": "3.9.13"
  }
 },
 "nbformat": 4,
 "nbformat_minor": 5
}
